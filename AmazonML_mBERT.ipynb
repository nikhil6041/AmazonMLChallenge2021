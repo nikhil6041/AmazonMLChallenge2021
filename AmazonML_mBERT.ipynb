{
  "nbformat": 4,
  "nbformat_minor": 0,
  "metadata": {
    "colab": {
      "name": "AmazonML2.ipynb",
      "provenance": [],
      "collapsed_sections": []
    },
    "kernelspec": {
      "name": "python3",
      "display_name": "Python 3"
    },
    "language_info": {
      "name": "python"
    },
    "accelerator": "GPU"
  },
  "cells": [
    {
      "cell_type": "code",
      "metadata": {
        "colab": {
          "base_uri": "https://localhost:8080/"
        },
        "id": "wu0cKY6Wl4GB",
        "outputId": "9bc143aa-fd8d-4a65-addb-0a4213b30426"
      },
      "source": [
        "!pip install transformers"
      ],
      "execution_count": null,
      "outputs": [
        {
          "output_type": "stream",
          "text": [
            "Requirement already satisfied: transformers in /usr/local/lib/python3.7/dist-packages (4.9.1)\n",
            "Requirement already satisfied: huggingface-hub==0.0.12 in /usr/local/lib/python3.7/dist-packages (from transformers) (0.0.12)\n",
            "Requirement already satisfied: tqdm>=4.27 in /usr/local/lib/python3.7/dist-packages (from transformers) (4.41.1)\n",
            "Requirement already satisfied: tokenizers<0.11,>=0.10.1 in /usr/local/lib/python3.7/dist-packages (from transformers) (0.10.3)\n",
            "Requirement already satisfied: requests in /usr/local/lib/python3.7/dist-packages (from transformers) (2.23.0)\n",
            "Requirement already satisfied: regex!=2019.12.17 in /usr/local/lib/python3.7/dist-packages (from transformers) (2019.12.20)\n",
            "Requirement already satisfied: numpy>=1.17 in /usr/local/lib/python3.7/dist-packages (from transformers) (1.19.5)\n",
            "Requirement already satisfied: pyyaml>=5.1 in /usr/local/lib/python3.7/dist-packages (from transformers) (5.4.1)\n",
            "Requirement already satisfied: importlib-metadata in /usr/local/lib/python3.7/dist-packages (from transformers) (4.6.1)\n",
            "Requirement already satisfied: packaging in /usr/local/lib/python3.7/dist-packages (from transformers) (21.0)\n",
            "Requirement already satisfied: filelock in /usr/local/lib/python3.7/dist-packages (from transformers) (3.0.12)\n",
            "Requirement already satisfied: sacremoses in /usr/local/lib/python3.7/dist-packages (from transformers) (0.0.45)\n",
            "Requirement already satisfied: typing-extensions in /usr/local/lib/python3.7/dist-packages (from huggingface-hub==0.0.12->transformers) (3.7.4.3)\n",
            "Requirement already satisfied: pyparsing>=2.0.2 in /usr/local/lib/python3.7/dist-packages (from packaging->transformers) (2.4.7)\n",
            "Requirement already satisfied: zipp>=0.5 in /usr/local/lib/python3.7/dist-packages (from importlib-metadata->transformers) (3.5.0)\n",
            "Requirement already satisfied: urllib3!=1.25.0,!=1.25.1,<1.26,>=1.21.1 in /usr/local/lib/python3.7/dist-packages (from requests->transformers) (1.24.3)\n",
            "Requirement already satisfied: chardet<4,>=3.0.2 in /usr/local/lib/python3.7/dist-packages (from requests->transformers) (3.0.4)\n",
            "Requirement already satisfied: idna<3,>=2.5 in /usr/local/lib/python3.7/dist-packages (from requests->transformers) (2.10)\n",
            "Requirement already satisfied: certifi>=2017.4.17 in /usr/local/lib/python3.7/dist-packages (from requests->transformers) (2021.5.30)\n",
            "Requirement already satisfied: six in /usr/local/lib/python3.7/dist-packages (from sacremoses->transformers) (1.15.0)\n",
            "Requirement already satisfied: joblib in /usr/local/lib/python3.7/dist-packages (from sacremoses->transformers) (1.0.1)\n",
            "Requirement already satisfied: click in /usr/local/lib/python3.7/dist-packages (from sacremoses->transformers) (7.1.2)\n"
          ],
          "name": "stdout"
        }
      ]
    },
    {
      "cell_type": "markdown",
      "metadata": {
        "id": "GHcEhhmUl8Ei"
      },
      "source": [
        "### Necessary packages"
      ]
    },
    {
      "cell_type": "code",
      "metadata": {
        "id": "Oue26IXml7w_"
      },
      "source": [
        "import torch \n",
        "import torch.nn as nn\n",
        "from torch.utils.data import Dataset,DataLoader,SubsetRandomSampler\n",
        "import torch.optim as optim\n",
        "\n",
        "import os\n",
        "import copy\n",
        "from collections import defaultdict\n",
        "import numpy as np\n",
        "import matplotlib.pyplot as plt\n",
        "import seaborn as sns\n",
        "import pandas as pd\n",
        "from pylab import rcParams\n",
        "import csv\n",
        "import time\n",
        "from tqdm import tqdm\n",
        "import random\n",
        "from sklearn.model_selection import train_test_split\n",
        "from sklearn.preprocessing import LabelEncoder\n",
        "from sklearn.metrics import confusion_matrix,classification_report,accuracy_score\n",
        "from transformers import AutoTokenizer,AutoModel,AutoModelForSequenceClassification,AdamW,get_linear_schedule_with_warmup\n",
        "\n",
        "seed_val = 42 \n",
        "np.random.seed(seed_val)\n",
        "torch.manual_seed(seed_val)\n",
        "torch.cuda.manual_seed(seed_val)\n",
        "torch.cuda.manual_seed_all(seed_val)"
      ],
      "execution_count": null,
      "outputs": []
    },
    {
      "cell_type": "code",
      "metadata": {
        "colab": {
          "base_uri": "https://localhost:8080/"
        },
        "id": "QhDcvnU4JaoU",
        "outputId": "8d436d6f-c1f2-4c8f-bcef-74b15dbbdcb6"
      },
      "source": [
        "if torch.cuda.is_available():\n",
        "    device = torch.device('cuda')\n",
        "    print(\"Running on gpu\",torch.cuda.get_device_name(0))\n",
        "else:\n",
        "    device = 'cpu'\n",
        "    print('No GPU found Running on cpu')"
      ],
      "execution_count": null,
      "outputs": [
        {
          "output_type": "stream",
          "text": [
            "Running on gpu Tesla P100-PCIE-16GB\n"
          ],
          "name": "stdout"
        }
      ]
    },
    {
      "cell_type": "code",
      "metadata": {
        "colab": {
          "base_uri": "https://localhost:8080/"
        },
        "id": "5rIYey22l7tU",
        "outputId": "56b5d0a0-1bb2-48db-f6cc-f6e02766423f"
      },
      "source": [
        "from google.colab import drive \n",
        "drive.mount('/content/drive')"
      ],
      "execution_count": null,
      "outputs": [
        {
          "output_type": "stream",
          "text": [
            "Drive already mounted at /content/drive; to attempt to forcibly remount, call drive.mount(\"/content/drive\", force_remount=True).\n"
          ],
          "name": "stdout"
        }
      ]
    },
    {
      "cell_type": "code",
      "metadata": {
        "id": "SVWO8IGIl7q5"
      },
      "source": [
        "dataset_dir = \"/content/drive/MyDrive/AmazonMLChallenge/dataset\"\n",
        "\n",
        "train_df = pd.read_csv(dataset_dir+\"/train.csv\",escapechar=\"\\\\\",quoting=csv.QUOTE_NONE)\n",
        "test_df = pd.read_csv(dataset_dir+\"/test.csv\",escapechar=\"\\\\\",quoting=csv.QUOTE_NONE)\n",
        "sample_df = pd.read_csv(dataset_dir+\"/sample_submission.csv\",escapechar=\"\\\\\",quoting=csv.QUOTE_NONE)"
      ],
      "execution_count": null,
      "outputs": []
    },
    {
      "cell_type": "code",
      "metadata": {
        "colab": {
          "base_uri": "https://localhost:8080/"
        },
        "id": "bA1OlKGbxtUD",
        "outputId": "b892951d-5ec1-425e-a65c-191e8d4e4138"
      },
      "source": [
        "train_df['TITLE'].isnull().sum()"
      ],
      "execution_count": null,
      "outputs": [
        {
          "output_type": "execute_result",
          "data": {
            "text/plain": [
              "71"
            ]
          },
          "metadata": {
            "tags": []
          },
          "execution_count": 6
        }
      ]
    },
    {
      "cell_type": "code",
      "metadata": {
        "colab": {
          "base_uri": "https://localhost:8080/"
        },
        "id": "Us7oVGbZx7a6",
        "outputId": "0d4dec00-7ff9-433b-ba96-e73e23f66a4b"
      },
      "source": [
        "len(train_df)-len(train_df.drop_duplicates())"
      ],
      "execution_count": null,
      "outputs": [
        {
          "output_type": "execute_result",
          "data": {
            "text/plain": [
              "101494"
            ]
          },
          "metadata": {
            "tags": []
          },
          "execution_count": 7
        }
      ]
    },
    {
      "cell_type": "code",
      "metadata": {
        "colab": {
          "base_uri": "https://localhost:8080/"
        },
        "id": "RWQ2zfmEyQ2U",
        "outputId": "906fa08f-6079-4150-997d-f2e9df45ddc8"
      },
      "source": [
        "train_df.shape"
      ],
      "execution_count": null,
      "outputs": [
        {
          "output_type": "execute_result",
          "data": {
            "text/plain": [
              "(2903024, 5)"
            ]
          },
          "metadata": {
            "tags": []
          },
          "execution_count": 8
        }
      ]
    },
    {
      "cell_type": "code",
      "metadata": {
        "colab": {
          "base_uri": "https://localhost:8080/"
        },
        "id": "lLWud-oKyTqM",
        "outputId": "61a73a83-9e28-4f61-e069-f41d73b7efa3"
      },
      "source": [
        "train_df = train_df.drop_duplicates()\n",
        "train_df.shape"
      ],
      "execution_count": null,
      "outputs": [
        {
          "output_type": "execute_result",
          "data": {
            "text/plain": [
              "(2801530, 5)"
            ]
          },
          "metadata": {
            "tags": []
          },
          "execution_count": 9
        }
      ]
    },
    {
      "cell_type": "code",
      "metadata": {
        "id": "quB5XEQvl7oz"
      },
      "source": [
        "train_df = train_df[train_df['TITLE'].notnull()]"
      ],
      "execution_count": null,
      "outputs": []
    },
    {
      "cell_type": "code",
      "metadata": {
        "colab": {
          "base_uri": "https://localhost:8080/"
        },
        "id": "jKUyDnA2l7Iu",
        "outputId": "297a0b22-9a00-44a7-f0ee-ea11a774a246"
      },
      "source": [
        "train_df['TITLE'].isnull().sum()"
      ],
      "execution_count": null,
      "outputs": [
        {
          "output_type": "execute_result",
          "data": {
            "text/plain": [
              "0"
            ]
          },
          "metadata": {
            "tags": []
          },
          "execution_count": 11
        }
      ]
    },
    {
      "cell_type": "code",
      "metadata": {
        "colab": {
          "base_uri": "https://localhost:8080/"
        },
        "id": "L5Id6SlFTuOj",
        "outputId": "22055e63-f86b-4209-e565-2eb5976e3cdf"
      },
      "source": [
        "le = LabelEncoder()\n",
        "train_df['BROWSE_NODE_ID'] = le.fit_transform(train_df['BROWSE_NODE_ID'])\n",
        "train_df['BROWSE_NODE_ID'].max()"
      ],
      "execution_count": null,
      "outputs": [
        {
          "output_type": "execute_result",
          "data": {
            "text/plain": [
              "9918"
            ]
          },
          "metadata": {
            "tags": []
          },
          "execution_count": 12
        }
      ]
    },
    {
      "cell_type": "code",
      "metadata": {
        "id": "-4SbM_wjxgK8"
      },
      "source": [
        "sentences = train_df['TITLE'].values \n",
        "labels = train_df['BROWSE_NODE_ID'].values"
      ],
      "execution_count": null,
      "outputs": []
    },
    {
      "cell_type": "code",
      "metadata": {
        "colab": {
          "base_uri": "https://localhost:8080/"
        },
        "id": "7GzsJdf1yhiw",
        "outputId": "d51744a9-bad6-4ed1-9232-784153626b65"
      },
      "source": [
        "print(sentences.shape,labels.shape)"
      ],
      "execution_count": null,
      "outputs": [
        {
          "output_type": "stream",
          "text": [
            "(2801467,) (2801467,)\n"
          ],
          "name": "stdout"
        }
      ]
    },
    {
      "cell_type": "code",
      "metadata": {
        "id": "YMrrty_Oyi9c"
      },
      "source": [
        "train_sentences,val_sentences,train_labels,val_labels = train_test_split(sentences,labels,test_size = 0.1,random_state=seed_val)"
      ],
      "execution_count": null,
      "outputs": []
    },
    {
      "cell_type": "code",
      "metadata": {
        "colab": {
          "base_uri": "https://localhost:8080/"
        },
        "id": "mFqwJozMy5KS",
        "outputId": "b4d040ff-1fc8-49e5-b568-9754e804886e"
      },
      "source": [
        "print(f\"No. of training sentences {len(train_sentences)}\")\n",
        "print(f\"No. of validation sentences {len(val_sentences)}\")"
      ],
      "execution_count": null,
      "outputs": [
        {
          "output_type": "stream",
          "text": [
            "No. of training sentences 2521320\n",
            "No. of validation sentences 280147\n"
          ],
          "name": "stdout"
        }
      ]
    },
    {
      "cell_type": "code",
      "metadata": {
        "colab": {
          "base_uri": "https://localhost:8080/"
        },
        "id": "M5reelgJzgsQ",
        "outputId": "2847bc3a-939e-4805-da24-9d2f476fbd99"
      },
      "source": [
        "train_df.memory_usage(deep= True)*(1e-6)"
      ],
      "execution_count": null,
      "outputs": [
        {
          "output_type": "execute_result",
          "data": {
            "text/plain": [
              "Index               22.411736\n",
              "TITLE              410.878601\n",
              "DESCRIPTION       1593.625925\n",
              "BULLET_POINTS     1398.700015\n",
              "BRAND              183.974600\n",
              "BROWSE_NODE_ID      22.411736\n",
              "dtype: float64"
            ]
          },
          "metadata": {
            "tags": []
          },
          "execution_count": 17
        }
      ]
    },
    {
      "cell_type": "code",
      "metadata": {
        "id": "ur2v7Gg00WLo"
      },
      "source": [
        "indices , cnts = np.unique(labels,return_counts=True)"
      ],
      "execution_count": null,
      "outputs": []
    },
    {
      "cell_type": "code",
      "metadata": {
        "colab": {
          "base_uri": "https://localhost:8080/",
          "height": 299
        },
        "id": "l8LCKQdV136Y",
        "outputId": "e4a969db-9875-4e2b-b5d0-9c8d97aa8ffa"
      },
      "source": [
        "sns.countplot(y = cnts[ (cnts >=10) & (cnts <=100)] )"
      ],
      "execution_count": null,
      "outputs": [
        {
          "output_type": "execute_result",
          "data": {
            "text/plain": [
              "<matplotlib.axes._subplots.AxesSubplot at 0x7fcf99413950>"
            ]
          },
          "metadata": {
            "tags": []
          },
          "execution_count": 19
        },
        {
          "output_type": "display_data",
          "data": {
            "image/png": "[encoded data removed]",
            "text/plain": [
              "<Figure size 432x288 with 1 Axes>"
            ]
          },
          "metadata": {
            "tags": [],
            "needs_background": "light"
          }
        }
      ]
    },
    {
      "cell_type": "code",
      "metadata": {
        "id": "pknP3ajt3GpX"
      },
      "source": [
        "model_name = 'bert-base-multilingual-cased'\n",
        "max_input_length = 128\n",
        "batch_size = 64"
      ],
      "execution_count": null,
      "outputs": []
    },
    {
      "cell_type": "markdown",
      "metadata": {
        "id": "aZd6b3hl3Oea"
      },
      "source": [
        "### Data Preprocessing"
      ]
    },
    {
      "cell_type": "code",
      "metadata": {
        "id": "2i-ntoUF2I7X"
      },
      "source": [
        "tokenizer = AutoTokenizer.from_pretrained(model_name)"
      ],
      "execution_count": null,
      "outputs": []
    },
    {
      "cell_type": "code",
      "metadata": {
        "colab": {
          "base_uri": "https://localhost:8080/"
        },
        "id": "MCg52pkq3Km1",
        "outputId": "fb072914-24a8-4253-b9e5-c913ebbe020f"
      },
      "source": [
        "idx = 100000\n",
        "sample_text = sentences[idx]\n",
        "tokens =tokenizer.tokenize(sample_text)\n",
        "token_ids = tokenizer.convert_tokens_to_ids(tokens)\n",
        "print('Sample text {}'.format(sample_text))\n",
        "print('Tokens {}'.format(tokens))\n",
        "print('Token IDS {}'.format(token_ids))"
      ],
      "execution_count": null,
      "outputs": [
        {
          "output_type": "stream",
          "text": [
            "Sample text BANBERRY DESIGNS Cat Picture - Kittens in a Basket Poster - Wall Decor for Kids Room - Black Framed Picture Artwork - 3D Holographic Wall Art (Renewed)\n",
            "Tokens ['BA', '##NB', '##ER', '##R', '##Y', 'DE', '##SI', '##G', '##NS', 'Cat', 'Picture', '-', 'Kit', '##tens', 'in', 'a', 'Basket', 'Post', '##er', '-', 'Wall', 'Dec', '##or', 'for', 'Kids', 'Room', '-', 'Black', 'Fram', '##ed', 'Picture', 'Art', '##work', '-', '3D', 'Ho', '##log', '##raphic', 'Wall', 'Art', '(', 'Rene', '##wed', ')']\n",
            "Token IDS [39999, 53244, 24093, 11273, 14703, 25067, 44802, 11447, 69196, 25059, 29582, 118, 45301, 58513, 10106, 169, 51976, 14539, 10165, 118, 19523, 46147, 10667, 10142, 28151, 26512, 118, 11750, 68063, 10336, 29582, 11397, 37382, 118, 17280, 20220, 18007, 48532, 19523, 11397, 113, 91790, 48854, 114]\n"
          ],
          "name": "stdout"
        }
      ]
    },
    {
      "cell_type": "code",
      "metadata": {
        "colab": {
          "base_uri": "https://localhost:8080/"
        },
        "id": "qcgFU6Aj5hao",
        "outputId": "b29caa95-9229-4bcc-8879-f55ddb9614ed"
      },
      "source": [
        "tokenizer.sep_token,tokenizer.sep_token_id"
      ],
      "execution_count": null,
      "outputs": [
        {
          "output_type": "execute_result",
          "data": {
            "text/plain": [
              "('[SEP]', 102)"
            ]
          },
          "metadata": {
            "tags": []
          },
          "execution_count": 23
        }
      ]
    },
    {
      "cell_type": "code",
      "metadata": {
        "colab": {
          "base_uri": "https://localhost:8080/"
        },
        "id": "H_qmWHfS6KW6",
        "outputId": "1e5bef35-28e2-46b7-b805-1901ae0596a4"
      },
      "source": [
        "tokenizer.cls_token,tokenizer.cls_token_id"
      ],
      "execution_count": null,
      "outputs": [
        {
          "output_type": "execute_result",
          "data": {
            "text/plain": [
              "('[CLS]', 101)"
            ]
          },
          "metadata": {
            "tags": []
          },
          "execution_count": 24
        }
      ]
    },
    {
      "cell_type": "code",
      "metadata": {
        "colab": {
          "base_uri": "https://localhost:8080/"
        },
        "id": "MzvFCZNT6ONQ",
        "outputId": "9cb9a641-cffd-49e6-d10c-3ccc55ac02d0"
      },
      "source": [
        "tokenizer.pad_token,tokenizer.pad_token_id"
      ],
      "execution_count": null,
      "outputs": [
        {
          "output_type": "execute_result",
          "data": {
            "text/plain": [
              "('[PAD]', 0)"
            ]
          },
          "metadata": {
            "tags": []
          },
          "execution_count": 25
        }
      ]
    },
    {
      "cell_type": "code",
      "metadata": {
        "colab": {
          "base_uri": "https://localhost:8080/"
        },
        "id": "x_P7s9I96RQ_",
        "outputId": "430260ee-7b88-4400-901a-ff16c205e642"
      },
      "source": [
        "tokenizer.unk_token,tokenizer.unk_token_id"
      ],
      "execution_count": null,
      "outputs": [
        {
          "output_type": "execute_result",
          "data": {
            "text/plain": [
              "('[UNK]', 100)"
            ]
          },
          "metadata": {
            "tags": []
          },
          "execution_count": 26
        }
      ]
    },
    {
      "cell_type": "code",
      "metadata": {
        "colab": {
          "base_uri": "https://localhost:8080/"
        },
        "id": "yGWRjGfb6ma4",
        "outputId": "ea9053d9-8cd1-40ad-a7f9-da48e08fd6a9"
      },
      "source": [
        "encoding = tokenizer.encode_plus(\n",
        "    sample_text,\n",
        "    max_length = max_input_length,\n",
        "    add_special_tokens = True,\n",
        "    pad_to_max_length=True,\n",
        "    return_attention_mask = True,\n",
        "    return_token_type_ids = False,\n",
        "    return_tensors = 'pt'\n",
        ")"
      ],
      "execution_count": null,
      "outputs": [
        {
          "output_type": "stream",
          "text": [
            "Truncation was not explicitly activated but `max_length` is provided a specific value, please use `truncation=True` to explicitly truncate examples to max length. Defaulting to 'longest_first' truncation strategy. If you encode pairs of sequences (GLUE-style) with the tokenizer you can select this strategy more precisely by providing a specific strategy to `truncation`.\n",
            "/usr/local/lib/python3.7/dist-packages/transformers/tokenization_utils_base.py:2190: FutureWarning: The `pad_to_max_length` argument is deprecated and will be removed in a future version, use `padding=True` or `padding='longest'` to pad to the longest sequence in the batch, or use `padding='max_length'` to pad to a max length. In this case, you can give a specific length with `max_length` (e.g. `max_length=45`) or leave max_length to None to pad to the maximal input size of the model (e.g. 512 for Bert).\n",
            "  FutureWarning,\n"
          ],
          "name": "stderr"
        }
      ]
    },
    {
      "cell_type": "code",
      "metadata": {
        "colab": {
          "base_uri": "https://localhost:8080/"
        },
        "id": "Gu9om6It7rtU",
        "outputId": "615dbb37-aced-455a-dda5-54b461da26b5"
      },
      "source": [
        "encoding"
      ],
      "execution_count": null,
      "outputs": [
        {
          "output_type": "execute_result",
          "data": {
            "text/plain": [
              "{'input_ids': tensor([[  101, 39999, 53244, 24093, 11273, 14703, 25067, 44802, 11447, 69196,\n",
              "         25059, 29582,   118, 45301, 58513, 10106,   169, 51976, 14539, 10165,\n",
              "           118, 19523, 46147, 10667, 10142, 28151, 26512,   118, 11750, 68063,\n",
              "         10336, 29582, 11397, 37382,   118, 17280, 20220, 18007, 48532, 19523,\n",
              "         11397,   113, 91790, 48854,   114,   102,     0,     0,     0,     0,\n",
              "             0,     0,     0,     0,     0,     0,     0,     0,     0,     0,\n",
              "             0,     0,     0,     0,     0,     0,     0,     0,     0,     0,\n",
              "             0,     0,     0,     0,     0,     0,     0,     0,     0,     0,\n",
              "             0,     0,     0,     0,     0,     0,     0,     0,     0,     0,\n",
              "             0,     0,     0,     0,     0,     0,     0,     0,     0,     0,\n",
              "             0,     0,     0,     0,     0,     0,     0,     0,     0,     0,\n",
              "             0,     0,     0,     0,     0,     0,     0,     0,     0,     0,\n",
              "             0,     0,     0,     0,     0,     0,     0,     0]]), 'attention_mask': tensor([[1, 1, 1, 1, 1, 1, 1, 1, 1, 1, 1, 1, 1, 1, 1, 1, 1, 1, 1, 1, 1, 1, 1, 1,\n",
              "         1, 1, 1, 1, 1, 1, 1, 1, 1, 1, 1, 1, 1, 1, 1, 1, 1, 1, 1, 1, 1, 1, 0, 0,\n",
              "         0, 0, 0, 0, 0, 0, 0, 0, 0, 0, 0, 0, 0, 0, 0, 0, 0, 0, 0, 0, 0, 0, 0, 0,\n",
              "         0, 0, 0, 0, 0, 0, 0, 0, 0, 0, 0, 0, 0, 0, 0, 0, 0, 0, 0, 0, 0, 0, 0, 0,\n",
              "         0, 0, 0, 0, 0, 0, 0, 0, 0, 0, 0, 0, 0, 0, 0, 0, 0, 0, 0, 0, 0, 0, 0, 0,\n",
              "         0, 0, 0, 0, 0, 0, 0, 0]])}"
            ]
          },
          "metadata": {
            "tags": []
          },
          "execution_count": 28
        }
      ]
    },
    {
      "cell_type": "code",
      "metadata": {
        "colab": {
          "base_uri": "https://localhost:8080/"
        },
        "id": "IxXhFChq7suv",
        "outputId": "ec3f9765-f86c-4698-d615-9f5869ebc38d"
      },
      "source": [
        "encoding.keys()"
      ],
      "execution_count": null,
      "outputs": [
        {
          "output_type": "execute_result",
          "data": {
            "text/plain": [
              "dict_keys(['input_ids', 'attention_mask'])"
            ]
          },
          "metadata": {
            "tags": []
          },
          "execution_count": 29
        }
      ]
    },
    {
      "cell_type": "code",
      "metadata": {
        "colab": {
          "base_uri": "https://localhost:8080/"
        },
        "id": "xdvBrtuoRM8V",
        "outputId": "8037202b-506c-44c3-84fc-aa5283ae3a29"
      },
      "source": [
        "base_model = AutoModel.from_pretrained(model_name)"
      ],
      "execution_count": null,
      "outputs": [
        {
          "output_type": "stream",
          "text": [
            "Some weights of the model checkpoint at bert-base-multilingual-cased were not used when initializing BertModel: ['cls.predictions.transform.dense.bias', 'cls.predictions.transform.LayerNorm.weight', 'cls.predictions.decoder.weight', 'cls.seq_relationship.weight', 'cls.predictions.bias', 'cls.predictions.transform.dense.weight', 'cls.seq_relationship.bias', 'cls.predictions.transform.LayerNorm.bias']\n",
            "- This IS expected if you are initializing BertModel from the checkpoint of a model trained on another task or with another architecture (e.g. initializing a BertForSequenceClassification model from a BertForPreTraining model).\n",
            "- This IS NOT expected if you are initializing BertModel from the checkpoint of a model that you expect to be exactly identical (initializing a BertForSequenceClassification model from a BertForSequenceClassification model).\n"
          ],
          "name": "stderr"
        }
      ]
    },
    {
      "cell_type": "code",
      "metadata": {
        "colab": {
          "base_uri": "https://localhost:8080/"
        },
        "id": "rpiW_ZXORSIs",
        "outputId": "44736522-4fc1-46ec-a119-1c97188bc8c9"
      },
      "source": [
        "base_model(**encoding)['pooler_output']"
      ],
      "execution_count": null,
      "outputs": [
        {
          "output_type": "execute_result",
          "data": {
            "text/plain": [
              "tensor([[ 1.6638e-01, -2.2678e-01,  2.9962e-01, -1.6099e-01, -1.0810e-01,\n",
              "          3.6077e-01,  2.8965e-01,  3.3004e-01, -5.0893e-01,  1.7437e-01,\n",
              "         -1.8017e-01, -1.7017e-01, -2.0878e-01, -2.5722e-01,  2.0610e-01,\n",
              "         -2.3200e-01,  5.7133e-01,  1.2473e-01,  1.7385e-01, -3.7577e-01,\n",
              "         -9.9971e-01, -1.7423e-01, -3.3126e-01, -2.0555e-01, -2.0162e-01,\n",
              "          2.7177e-01, -3.3592e-01,  1.6510e-01,  2.0183e-01, -2.2689e-01,\n",
              "          1.4718e-01, -9.9972e-01,  7.0003e-01,  6.8122e-01,  1.6884e-01,\n",
              "         -1.9151e-01,  3.0564e-01,  2.3276e-01,  2.3881e-01, -3.4318e-01,\n",
              "         -1.5799e-01,  1.2846e-01, -2.2869e-01,  2.0420e-01,  9.5018e-03,\n",
              "         -2.9154e-01, -1.3386e-01,  2.5103e-01, -2.2508e-01,  2.3263e-01,\n",
              "          7.8671e-03,  1.0300e-01,  3.9618e-01,  2.6363e-01,  2.6938e-01,\n",
              "          3.4279e-02,  2.7643e-01,  3.0324e-02,  4.1956e-01, -2.9954e-01,\n",
              "         -2.2356e-02,  2.9602e-01,  2.5860e-01, -2.3699e-01, -2.1637e-01,\n",
              "         -3.6217e-01,  4.4292e-02, -7.0870e-02,  4.0857e-01, -2.3032e-01,\n",
              "         -9.5887e-02, -3.9464e-01, -2.1567e-01,  1.7692e-01,  1.6633e-01,\n",
              "         -3.1455e-01,  3.6942e-01,  4.6772e-01,  1.9274e-01, -2.2689e-01,\n",
              "         -4.8259e-01, -3.6068e-01, -3.6974e-01,  1.7462e-01, -2.4233e-01,\n",
              "          2.4116e-01,  3.5477e-01, -4.1829e-01,  1.9105e-01, -2.5765e-02,\n",
              "          3.1977e-01,  4.8172e-01, -2.0568e-01,  2.8856e-01, -1.9879e-01,\n",
              "         -8.2087e-02, -7.6661e-01, -8.0608e-02, -2.4687e-01, -1.6684e-01,\n",
              "         -2.2232e-01,  1.5686e-01, -2.8423e-01, -1.4531e-01, -1.8888e-01,\n",
              "         -3.5776e-01,  3.2577e-01,  2.1725e-01, -2.3349e-01,  1.7927e-01,\n",
              "          2.5986e-01, -4.4237e-01, -1.8600e-01,  2.4524e-01, -3.5508e-01,\n",
              "          9.5761e-01, -3.3643e-01,  2.8294e-01,  7.5453e-02, -1.8042e-01,\n",
              "         -3.8809e-01,  9.9979e-01,  2.6294e-01, -2.0129e-01,  2.0437e-01,\n",
              "          2.0711e-01, -4.4420e-01,  9.5404e-02,  1.3516e-01,  2.9541e-01,\n",
              "          8.9605e-02,  1.4594e-02, -1.9456e-01, -2.3414e-01, -7.8699e-01,\n",
              "         -2.3193e-01, -3.0452e-01,  3.1878e-01, -1.9261e-01, -1.4673e-01,\n",
              "          4.0727e-02,  5.1395e-01,  3.4222e-01, -2.1117e-01,  5.4188e-02,\n",
              "         -6.2933e-02,  3.6968e-01, -1.4934e-01,  9.9976e-01,  6.3738e-01,\n",
              "         -2.1111e-01, -1.5403e-01,  6.3984e-01, -6.7890e-01, -3.7833e-01,\n",
              "         -3.8790e-01, -2.6119e-01, -5.1905e-01,  3.1589e-01,  2.0476e-01,\n",
              "          2.5647e-01, -1.9269e-01, -2.3250e-01, -2.4667e-01,  1.7436e-01,\n",
              "         -5.8421e-01, -2.5926e-01,  3.7934e-01,  3.6174e-01,  2.4877e-01,\n",
              "         -1.7315e-01,  4.1676e-01,  2.0026e-01, -1.8163e-01, -1.8137e-01,\n",
              "          1.9221e-01,  1.0219e-01, -4.4874e-02, -2.1960e-01, -2.6188e-01,\n",
              "          1.6396e-01, -2.7663e-01, -3.0526e-01,  6.0376e-02, -6.6081e-02,\n",
              "         -4.1908e-01,  3.0666e-01, -2.3967e-01, -5.4082e-01,  2.2995e-01,\n",
              "         -1.5391e-01,  2.4389e-01, -3.2391e-01,  2.4244e-01,  4.2535e-01,\n",
              "          1.1209e-01, -4.6694e-01,  2.9362e-01,  1.9718e-01,  2.8356e-01,\n",
              "          2.5949e-01,  4.5348e-02,  2.6356e-01,  1.9331e-01, -2.8816e-01,\n",
              "         -5.9584e-01,  2.2989e-01,  2.4727e-01,  3.6272e-01, -1.3640e-01,\n",
              "         -5.6868e-01, -1.0545e-01,  4.1620e-01,  3.5055e-01, -2.7735e-01,\n",
              "          2.2455e-01,  3.4873e-01, -2.7584e-01, -2.3489e-01,  8.6236e-02,\n",
              "         -1.5317e-01, -3.8855e-01, -2.7914e-01, -3.0227e-01, -1.9647e-01,\n",
              "          2.1348e-01,  7.7469e-02,  2.8059e-01, -5.4345e-02, -1.5426e-01,\n",
              "         -3.3526e-01, -3.3152e-01,  2.4731e-01,  2.8712e-01, -3.1475e-01,\n",
              "          7.8366e-01, -2.4675e-01,  2.3215e-01, -5.1431e-01, -1.8824e-01,\n",
              "          2.5261e-01, -3.4410e-01,  2.8753e-01,  9.2594e-01,  1.7931e-01,\n",
              "         -3.8611e-01,  3.4821e-01,  3.3272e-01,  2.9601e-01, -4.0755e-01,\n",
              "          2.9425e-02, -5.6952e-01,  7.4735e-01,  2.8028e-01,  7.1532e-02,\n",
              "         -9.9973e-01,  1.9890e-01,  2.3358e-01,  4.6279e-01,  2.0970e-01,\n",
              "          2.0204e-01,  4.0277e-01,  1.4080e-01,  9.0852e-01, -3.4761e-01,\n",
              "         -5.2012e-01, -3.6994e-01, -1.6522e-01, -4.9782e-01, -2.5759e-01,\n",
              "         -2.2569e-01, -2.3532e-01, -3.3968e-01, -2.1263e-01, -2.5789e-01,\n",
              "          2.0856e-01,  4.0557e-01, -9.9119e-01,  7.7547e-01,  1.9647e-01,\n",
              "         -9.6672e-02, -2.1489e-02,  2.9858e-01, -9.9977e-01,  3.6525e-01,\n",
              "         -1.6980e-01, -1.9169e-01,  3.3707e-01, -4.4313e-01, -2.5892e-01,\n",
              "          2.9529e-01,  4.0636e-01,  2.7402e-01,  8.9258e-02,  1.1331e-01,\n",
              "          4.6322e-01, -1.1029e-01,  1.6645e-01,  2.7257e-01, -1.0383e-01,\n",
              "          4.0297e-01,  6.4078e-02,  2.9206e-01,  2.5446e-01, -2.0109e-01,\n",
              "          3.3185e-01, -3.1314e-01,  2.2165e-01,  3.2652e-01,  2.1404e-01,\n",
              "          6.8657e-02, -2.2898e-01,  3.5930e-01, -6.4824e-01,  1.6354e-01,\n",
              "         -2.8848e-01, -2.9001e-01, -2.5709e-01,  2.5523e-01, -1.5437e-01,\n",
              "         -3.7322e-01,  1.5960e-01, -3.3924e-01,  9.9976e-01,  1.4225e-01,\n",
              "         -2.8666e-01, -4.6429e-01,  5.4806e-01,  3.9571e-01, -3.0190e-01,\n",
              "         -7.7009e-01, -1.6884e-01,  5.6472e-01,  3.4522e-01,  4.1502e-01,\n",
              "          8.3206e-02,  1.2732e-02,  2.6292e-01, -6.8659e-02, -2.0944e-01,\n",
              "          2.1451e-01, -3.0122e-01,  2.9812e-01, -1.9740e-01, -3.4825e-01,\n",
              "          9.5083e-02, -2.1361e-01, -7.2755e-02, -7.9785e-01,  3.3375e-01,\n",
              "          2.0497e-01,  3.5748e-01,  1.9066e-01,  1.7888e-01, -2.3901e-01,\n",
              "          5.3325e-01,  3.5886e-01, -2.8515e-01, -1.5748e-01, -2.6483e-01,\n",
              "         -2.9634e-01, -1.5699e-01, -3.5930e-01, -3.9327e-01,  3.0989e-01,\n",
              "         -5.4329e-01,  2.1175e-01, -5.9714e-02, -1.3224e-01, -4.5654e-01,\n",
              "          3.2257e-01, -9.9982e-01, -2.8427e-01,  1.6516e-01, -3.2101e-01,\n",
              "          2.8152e-01, -3.7745e-01, -2.5334e-01,  1.6132e-01,  2.1481e-01,\n",
              "         -2.3467e-02,  8.7316e-02, -4.6771e-01,  3.3304e-03, -2.1297e-01,\n",
              "          2.3762e-01,  7.7491e-01,  4.5573e-01,  1.4094e-01, -3.3250e-01,\n",
              "          1.3708e-01, -4.2115e-01, -1.2195e-01,  3.7815e-01,  1.9148e-01,\n",
              "         -2.9394e-01,  9.3272e-02,  1.2334e-01,  2.2636e-01, -1.5555e-01,\n",
              "          3.3383e-01, -2.7253e-01, -1.6554e-01,  1.2247e-01, -9.4272e-02,\n",
              "         -2.5295e-01, -3.8643e-01,  2.3200e-01, -4.2287e-01,  2.2500e-01,\n",
              "          1.9687e-01,  3.5123e-01,  4.2554e-02,  3.8572e-01, -4.0572e-01,\n",
              "         -1.1574e-01, -1.3848e-01, -4.9872e-02, -3.7277e-01, -2.3277e-01,\n",
              "         -2.6919e-01,  9.9982e-01,  2.9117e-01,  4.1821e-01, -3.0988e-01,\n",
              "          1.2957e-01,  3.0753e-01, -2.3995e-01,  2.5175e-01,  2.6469e-01,\n",
              "          1.9375e-01, -2.0020e-01,  2.1373e-01,  3.5463e-01,  3.4558e-01,\n",
              "          2.1140e-01,  3.7932e-01,  3.5772e-01, -2.1858e-01,  5.7243e-01,\n",
              "         -3.0324e-01, -5.2790e-01, -9.9264e-01,  1.9669e-01,  4.3161e-01,\n",
              "         -1.9165e-01, -6.3507e-01,  1.2063e-01, -2.5647e-01,  1.6490e-01,\n",
              "         -1.4356e-01,  1.9236e-01,  2.7910e-01, -2.1581e-01,  3.2151e-01,\n",
              "         -3.3552e-01,  9.9977e-01, -1.8429e-01,  2.9538e-01,  2.5767e-01,\n",
              "          1.4039e-01, -2.8052e-01, -2.1090e-01, -2.3623e-01,  3.0606e-01,\n",
              "         -1.6625e-01,  1.5138e-01, -9.1183e-01,  2.5012e-01,  2.8295e-01,\n",
              "          3.4169e-01, -1.2564e-01,  1.3385e-01, -3.8364e-01,  3.9409e-01,\n",
              "         -2.3377e-01, -9.3040e-02, -3.4978e-01,  3.6390e-01, -4.5764e-01,\n",
              "          2.9520e-01, -2.5528e-01,  3.4687e-01, -3.2698e-01,  2.6959e-01,\n",
              "         -1.8985e-01,  1.8748e-01, -2.4735e-01,  2.0379e-01, -3.2080e-01,\n",
              "         -3.7756e-01, -3.0743e-01,  1.6724e-01, -3.3792e-01,  9.9976e-01,\n",
              "         -1.0302e-01,  2.6894e-01, -2.5446e-01,  3.6241e-01, -3.4380e-01,\n",
              "          5.2059e-01,  6.7074e-01, -2.4739e-01,  3.1744e-01,  3.2853e-01,\n",
              "         -6.1881e-01,  4.7095e-01, -1.7490e-01, -8.1941e-01, -1.8013e-01,\n",
              "          9.4538e-01,  1.7615e-01,  4.0728e-01,  3.0802e-01,  4.6182e-01,\n",
              "          2.8547e-01, -2.5268e-01,  2.6570e-01,  7.6445e-01,  1.1954e-01,\n",
              "          2.8118e-01,  2.9408e-01,  1.8466e-01, -1.9064e-01, -1.7126e-01,\n",
              "          9.9977e-01,  9.9976e-01,  2.0410e-01,  3.8496e-01, -1.7960e-01,\n",
              "         -3.3419e-01, -1.1375e-01,  3.8988e-01,  1.6993e-01,  3.4064e-01,\n",
              "         -1.6722e-01,  1.0988e-01, -3.2467e-01, -1.7432e-01, -1.0951e-01,\n",
              "         -1.2498e-01, -2.2251e-01,  1.2111e-01, -4.9070e-01,  3.9927e-01,\n",
              "          3.9976e-01,  7.9467e-02,  5.0262e-01,  1.4410e-01,  2.4170e-01,\n",
              "          9.2791e-04, -1.7968e-01,  3.9422e-01, -3.8138e-01, -2.7710e-01,\n",
              "         -2.7302e-01,  1.9866e-01, -9.9970e-01, -2.0178e-01, -1.2529e-01,\n",
              "         -2.2596e-01,  4.2483e-01,  1.5879e-01,  3.0664e-01, -3.7451e-01,\n",
              "         -2.1290e-01, -1.8121e-01,  2.8213e-01,  1.9080e-01,  2.5455e-01,\n",
              "         -2.8100e-01, -2.1505e-01,  3.3597e-01, -4.4709e-01,  9.3509e-02,\n",
              "         -2.6012e-01, -3.3194e-01, -6.3033e-01, -8.1921e-02, -3.7618e-01,\n",
              "          3.1011e-01, -3.4171e-01, -2.9633e-01,  2.6659e-01,  3.6808e-01,\n",
              "          2.2573e-01, -4.5782e-01,  3.9615e-01, -2.9358e-01,  1.8579e-01,\n",
              "          3.7096e-01,  3.6310e-01,  2.0527e-01, -1.5081e-01, -2.8271e-01,\n",
              "         -7.3023e-02, -1.9889e-01, -1.8293e-01,  4.2604e-01, -2.0414e-01,\n",
              "          2.7813e-01, -3.3783e-01,  1.3315e-01, -2.8312e-01,  1.4336e-01,\n",
              "          4.9208e-01,  3.4509e-01, -1.5483e-01,  3.7303e-01,  3.7251e-01,\n",
              "         -1.3209e-01,  3.7916e-01,  9.1304e-02, -1.7313e-01, -1.5685e-01,\n",
              "          9.9979e-01,  4.4335e-01,  1.9019e-01,  3.6279e-01, -1.4445e-01,\n",
              "          3.6601e-01,  1.7784e-01,  3.7684e-01, -3.3215e-01,  8.3262e-01,\n",
              "         -2.6622e-01,  3.1641e-01,  1.7257e-01,  5.1576e-01,  4.6803e-02,\n",
              "          2.5054e-01,  3.2290e-01,  7.5788e-01,  2.9854e-01,  2.2950e-01,\n",
              "          2.3500e-01,  2.4497e-01,  2.7758e-01,  2.6384e-01,  1.6615e-01,\n",
              "          4.3090e-01,  3.1220e-01, -1.8535e-01,  2.3240e-01, -1.7566e-01,\n",
              "         -2.8547e-01, -1.8211e-01, -1.3960e-01, -2.4390e-01,  1.3869e-01,\n",
              "         -1.9138e-01, -2.4036e-01, -2.0446e-01,  2.4514e-01, -3.0530e-01,\n",
              "          2.2790e-01, -1.7792e-01, -4.2000e-01,  5.7914e-01, -3.6687e-01,\n",
              "          2.6532e-01, -1.7646e-01,  5.9792e-02, -7.7039e-01,  6.9743e-02,\n",
              "         -1.5070e-01, -4.0666e-01, -2.7295e-01, -5.1093e-01,  2.3066e-01,\n",
              "          2.7569e-01, -6.8903e-02,  3.0470e-01, -2.9399e-01,  2.5747e-01,\n",
              "         -3.2078e-01, -2.1660e-01,  2.5739e-01, -9.9977e-01,  5.8933e-02,\n",
              "          2.6370e-01, -2.6231e-01,  1.7955e-01,  5.3310e-02,  1.9541e-01,\n",
              "          2.2689e-01, -4.4571e-01, -1.6301e-01, -2.6279e-01,  2.8013e-01,\n",
              "         -3.8523e-01,  3.1620e-02,  3.1581e-01, -3.9780e-01, -2.4709e-01,\n",
              "          1.1563e-02, -1.5850e-01,  3.2052e-01,  3.0278e-01, -1.4553e-01,\n",
              "          3.2182e-01, -2.5519e-01,  1.7120e-01, -1.6764e-01,  3.0437e-01,\n",
              "         -2.9663e-01, -2.1668e-01,  2.6822e-01, -3.4280e-01, -2.7483e-01,\n",
              "         -2.1463e-01,  1.1852e-01, -3.1846e-01,  2.0869e-01,  2.8265e-01,\n",
              "         -1.8713e-01,  2.3160e-01, -1.8654e-01,  2.8227e-01, -2.1581e-01,\n",
              "          2.5264e-01, -7.8039e-01, -4.9093e-01, -4.2850e-01, -2.7049e-01,\n",
              "          2.2581e-01,  4.0032e-01,  1.2927e-01,  2.2205e-01, -1.3598e-01,\n",
              "          2.4641e-01, -3.2547e-01,  1.2309e-01,  2.0697e-01, -5.7548e-02,\n",
              "          1.8304e-01, -2.0606e-01,  3.0494e-01, -3.7398e-01,  8.2780e-02,\n",
              "         -9.8834e-01, -2.0815e-01,  1.7693e-01,  2.1900e-01,  3.5717e-01,\n",
              "         -1.7051e-01, -2.6621e-01, -3.0386e-01, -2.8654e-01,  3.5121e-01,\n",
              "          1.8069e-01,  3.9309e-01,  1.1618e-02,  2.2608e-01, -1.8023e-01,\n",
              "         -2.2016e-01,  8.0214e-01, -3.1068e-01,  1.7759e-01,  4.3339e-01,\n",
              "          3.0960e-01,  8.6186e-01,  4.7097e-01,  2.8318e-01,  2.0643e-01,\n",
              "         -2.1800e-01,  3.5201e-01,  2.5075e-01]], grad_fn=<TanhBackward>)"
            ]
          },
          "metadata": {
            "tags": []
          },
          "execution_count": 31
        }
      ]
    },
    {
      "cell_type": "markdown",
      "metadata": {
        "id": "CbDzGp5o8e2v"
      },
      "source": [
        "## Choosing token length"
      ]
    },
    {
      "cell_type": "code",
      "metadata": {
        "id": "pl1hW5vd7z51"
      },
      "source": [
        "# token_lens = []\n",
        "# for txt in sentences:\n",
        "#     tokens = tokenizer.encode(txt,max_length=512)\n",
        "#     token_lens.append(len(tokens))"
      ],
      "execution_count": null,
      "outputs": []
    },
    {
      "cell_type": "code",
      "metadata": {
        "id": "U-zSVzE18xzF"
      },
      "source": [
        "# sns.displot(token_lens)"
      ],
      "execution_count": null,
      "outputs": []
    },
    {
      "cell_type": "code",
      "metadata": {
        "id": "PZqbay3_81xn"
      },
      "source": [
        "class AmazonDataset(Dataset):\n",
        "\n",
        "  def __init__(self, sentences, labels, tokenizer, max_length,with_labels=True):\n",
        "    self.sentences = sentences\n",
        "    self.labels = labels\n",
        "    self.tokenizer = tokenizer\n",
        "    self.max_length = max_length\n",
        "    self.with_labels = with_labels\n",
        "  \n",
        "  def __len__(self):\n",
        "    return len(self.sentences)\n",
        "  \n",
        "  def __getitem__(self, idx):\n",
        "    sentence = str(self.sentences[idx])\n",
        "    encoding = self.tokenizer.encode_plus(\n",
        "      sentence,\n",
        "      add_special_tokens=True,\n",
        "      max_length=self.max_length,\n",
        "      return_token_type_ids=False,\n",
        "      pad_to_max_length=True,\n",
        "      return_attention_mask=True,\n",
        "      return_tensors='pt',\n",
        "    )\n",
        "\n",
        "    if self.with_labels:\n",
        "        \n",
        "        label = self.labels[idx]\n",
        "\n",
        "        return {\n",
        "            'sentence': sentence,\n",
        "            'input_ids': encoding['input_ids'].flatten(),\n",
        "            'attention_mask': encoding['attention_mask'].flatten(),\n",
        "            'labels': torch.tensor(label, dtype=torch.long)\n",
        "        }\n",
        "    else:\n",
        "        return {\n",
        "            'sentence': sentence,\n",
        "            'input_ids': encoding['input_ids'].flatten(),\n",
        "            'attention_mask': encoding['attention_mask'].flatten(),\n",
        "        }"
      ],
      "execution_count": null,
      "outputs": []
    },
    {
      "cell_type": "code",
      "metadata": {
        "id": "P9NnNAOs_VXd"
      },
      "source": [
        "def create_data_loaders(sentences,labels,tokenizer,max_input_length,batch_size,with_labels):\n",
        "    ds = AmazonDataset(\n",
        "        sentences =sentences,\n",
        "        labels=labels,\n",
        "        tokenizer=tokenizer,\n",
        "        max_length=max_input_length,\n",
        "        with_labels = with_labels\n",
        "    )\n",
        "\n",
        "    return DataLoader(\n",
        "        ds,\n",
        "        batch_size=batch_size\n",
        "    )"
      ],
      "execution_count": null,
      "outputs": []
    },
    {
      "cell_type": "code",
      "metadata": {
        "id": "Hyta-on7CL5j"
      },
      "source": [
        "train_loader = create_data_loaders(\n",
        "    train_sentences,\n",
        "    train_labels,\n",
        "    tokenizer,\n",
        "    max_input_length=max_input_length,\n",
        "    batch_size=batch_size,\n",
        "    with_labels = True\n",
        ")\n",
        "\n",
        "val_loader = create_data_loaders(\n",
        "    val_sentences,\n",
        "    val_labels,\n",
        "    tokenizer,\n",
        "    max_input_length=max_input_length,\n",
        "    batch_size=batch_size,\n",
        "    with_labels = True\n",
        ")"
      ],
      "execution_count": null,
      "outputs": []
    },
    {
      "cell_type": "code",
      "metadata": {
        "id": "7t9mcWUOId8b"
      },
      "source": [
        "class AmazonClassifier(nn.Module):\n",
        "\n",
        "  def __init__(self,base_model_name, n_classes):\n",
        "    super(AmazonClassifier, self).__init__()\n",
        "    self.base_model = AutoModel.from_pretrained(base_model_name)\n",
        "    self.drop = nn.Dropout(p=0.3)\n",
        "    self.out = nn.Linear(self.base_model.config.hidden_size, n_classes)\n",
        "  \n",
        "  def forward(self, input_ids, attention_mask):\n",
        "    pooled_output = self.base_model(\n",
        "      input_ids=input_ids,\n",
        "      attention_mask=attention_mask\n",
        "    )['pooler_output']\n",
        "    output = self.drop(pooled_output)\n",
        "    return self.out(output)"
      ],
      "execution_count": null,
      "outputs": []
    },
    {
      "cell_type": "code",
      "metadata": {
        "colab": {
          "base_uri": "https://localhost:8080/"
        },
        "id": "zXXmbmlAI6Bb",
        "outputId": "d1cb7735-ec71-4e20-ee4b-93da422e0caf"
      },
      "source": [
        "model = AmazonClassifier(base_model_name=model_name,n_classes=len(np.unique(labels)))"
      ],
      "execution_count": null,
      "outputs": [
        {
          "output_type": "stream",
          "text": [
            "Some weights of the model checkpoint at bert-base-multilingual-cased were not used when initializing BertModel: ['cls.predictions.transform.dense.bias', 'cls.predictions.transform.LayerNorm.weight', 'cls.predictions.decoder.weight', 'cls.seq_relationship.weight', 'cls.predictions.bias', 'cls.predictions.transform.dense.weight', 'cls.seq_relationship.bias', 'cls.predictions.transform.LayerNorm.bias']\n",
            "- This IS expected if you are initializing BertModel from the checkpoint of a model trained on another task or with another architecture (e.g. initializing a BertForSequenceClassification model from a BertForPreTraining model).\n",
            "- This IS NOT expected if you are initializing BertModel from the checkpoint of a model that you expect to be exactly identical (initializing a BertForSequenceClassification model from a BertForSequenceClassification model).\n"
          ],
          "name": "stderr"
        }
      ]
    },
    {
      "cell_type": "code",
      "metadata": {
        "colab": {
          "base_uri": "https://localhost:8080/"
        },
        "id": "QspEPMeJeGOJ",
        "outputId": "d77213cd-0803-4a76-e3fd-655323c5bd41"
      },
      "source": [
        "model.load_state_dict(torch.load('/content/drive/MyDrive/AmazonMLChallenge/model_bert_2.pth'))"
      ],
      "execution_count": null,
      "outputs": [
        {
          "output_type": "execute_result",
          "data": {
            "text/plain": [
              "<All keys matched successfully>"
            ]
          },
          "metadata": {
            "tags": []
          },
          "execution_count": 39
        }
      ]
    },
    {
      "cell_type": "code",
      "metadata": {
        "colab": {
          "base_uri": "https://localhost:8080/"
        },
        "id": "pw0Pw3VcJD7c",
        "outputId": "0d8ae882-528d-421d-e679-c450a65e3891"
      },
      "source": [
        "model.to(device)"
      ],
      "execution_count": null,
      "outputs": [
        {
          "output_type": "execute_result",
          "data": {
            "text/plain": [
              "AmazonClassifier(\n",
              "  (base_model): BertModel(\n",
              "    (embeddings): BertEmbeddings(\n",
              "      (word_embeddings): Embedding(119547, 768, padding_idx=0)\n",
              "      (position_embeddings): Embedding(512, 768)\n",
              "      (token_type_embeddings): Embedding(2, 768)\n",
              "      (LayerNorm): LayerNorm((768,), eps=1e-12, elementwise_affine=True)\n",
              "      (dropout): Dropout(p=0.1, inplace=False)\n",
              "    )\n",
              "    (encoder): BertEncoder(\n",
              "      (layer): ModuleList(\n",
              "        (0): BertLayer(\n",
              "          (attention): BertAttention(\n",
              "            (self): BertSelfAttention(\n",
              "              (query): Linear(in_features=768, out_features=768, bias=True)\n",
              "              (key): Linear(in_features=768, out_features=768, bias=True)\n",
              "              (value): Linear(in_features=768, out_features=768, bias=True)\n",
              "              (dropout): Dropout(p=0.1, inplace=False)\n",
              "            )\n",
              "            (output): BertSelfOutput(\n",
              "              (dense): Linear(in_features=768, out_features=768, bias=True)\n",
              "              (LayerNorm): LayerNorm((768,), eps=1e-12, elementwise_affine=True)\n",
              "              (dropout): Dropout(p=0.1, inplace=False)\n",
              "            )\n",
              "          )\n",
              "          (intermediate): BertIntermediate(\n",
              "            (dense): Linear(in_features=768, out_features=3072, bias=True)\n",
              "          )\n",
              "          (output): BertOutput(\n",
              "            (dense): Linear(in_features=3072, out_features=768, bias=True)\n",
              "            (LayerNorm): LayerNorm((768,), eps=1e-12, elementwise_affine=True)\n",
              "            (dropout): Dropout(p=0.1, inplace=False)\n",
              "          )\n",
              "        )\n",
              "        (1): BertLayer(\n",
              "          (attention): BertAttention(\n",
              "            (self): BertSelfAttention(\n",
              "              (query): Linear(in_features=768, out_features=768, bias=True)\n",
              "              (key): Linear(in_features=768, out_features=768, bias=True)\n",
              "              (value): Linear(in_features=768, out_features=768, bias=True)\n",
              "              (dropout): Dropout(p=0.1, inplace=False)\n",
              "            )\n",
              "            (output): BertSelfOutput(\n",
              "              (dense): Linear(in_features=768, out_features=768, bias=True)\n",
              "              (LayerNorm): LayerNorm((768,), eps=1e-12, elementwise_affine=True)\n",
              "              (dropout): Dropout(p=0.1, inplace=False)\n",
              "            )\n",
              "          )\n",
              "          (intermediate): BertIntermediate(\n",
              "            (dense): Linear(in_features=768, out_features=3072, bias=True)\n",
              "          )\n",
              "          (output): BertOutput(\n",
              "            (dense): Linear(in_features=3072, out_features=768, bias=True)\n",
              "            (LayerNorm): LayerNorm((768,), eps=1e-12, elementwise_affine=True)\n",
              "            (dropout): Dropout(p=0.1, inplace=False)\n",
              "          )\n",
              "        )\n",
              "        (2): BertLayer(\n",
              "          (attention): BertAttention(\n",
              "            (self): BertSelfAttention(\n",
              "              (query): Linear(in_features=768, out_features=768, bias=True)\n",
              "              (key): Linear(in_features=768, out_features=768, bias=True)\n",
              "              (value): Linear(in_features=768, out_features=768, bias=True)\n",
              "              (dropout): Dropout(p=0.1, inplace=False)\n",
              "            )\n",
              "            (output): BertSelfOutput(\n",
              "              (dense): Linear(in_features=768, out_features=768, bias=True)\n",
              "              (LayerNorm): LayerNorm((768,), eps=1e-12, elementwise_affine=True)\n",
              "              (dropout): Dropout(p=0.1, inplace=False)\n",
              "            )\n",
              "          )\n",
              "          (intermediate): BertIntermediate(\n",
              "            (dense): Linear(in_features=768, out_features=3072, bias=True)\n",
              "          )\n",
              "          (output): BertOutput(\n",
              "            (dense): Linear(in_features=3072, out_features=768, bias=True)\n",
              "            (LayerNorm): LayerNorm((768,), eps=1e-12, elementwise_affine=True)\n",
              "            (dropout): Dropout(p=0.1, inplace=False)\n",
              "          )\n",
              "        )\n",
              "        (3): BertLayer(\n",
              "          (attention): BertAttention(\n",
              "            (self): BertSelfAttention(\n",
              "              (query): Linear(in_features=768, out_features=768, bias=True)\n",
              "              (key): Linear(in_features=768, out_features=768, bias=True)\n",
              "              (value): Linear(in_features=768, out_features=768, bias=True)\n",
              "              (dropout): Dropout(p=0.1, inplace=False)\n",
              "            )\n",
              "            (output): BertSelfOutput(\n",
              "              (dense): Linear(in_features=768, out_features=768, bias=True)\n",
              "              (LayerNorm): LayerNorm((768,), eps=1e-12, elementwise_affine=True)\n",
              "              (dropout): Dropout(p=0.1, inplace=False)\n",
              "            )\n",
              "          )\n",
              "          (intermediate): BertIntermediate(\n",
              "            (dense): Linear(in_features=768, out_features=3072, bias=True)\n",
              "          )\n",
              "          (output): BertOutput(\n",
              "            (dense): Linear(in_features=3072, out_features=768, bias=True)\n",
              "            (LayerNorm): LayerNorm((768,), eps=1e-12, elementwise_affine=True)\n",
              "            (dropout): Dropout(p=0.1, inplace=False)\n",
              "          )\n",
              "        )\n",
              "        (4): BertLayer(\n",
              "          (attention): BertAttention(\n",
              "            (self): BertSelfAttention(\n",
              "              (query): Linear(in_features=768, out_features=768, bias=True)\n",
              "              (key): Linear(in_features=768, out_features=768, bias=True)\n",
              "              (value): Linear(in_features=768, out_features=768, bias=True)\n",
              "              (dropout): Dropout(p=0.1, inplace=False)\n",
              "            )\n",
              "            (output): BertSelfOutput(\n",
              "              (dense): Linear(in_features=768, out_features=768, bias=True)\n",
              "              (LayerNorm): LayerNorm((768,), eps=1e-12, elementwise_affine=True)\n",
              "              (dropout): Dropout(p=0.1, inplace=False)\n",
              "            )\n",
              "          )\n",
              "          (intermediate): BertIntermediate(\n",
              "            (dense): Linear(in_features=768, out_features=3072, bias=True)\n",
              "          )\n",
              "          (output): BertOutput(\n",
              "            (dense): Linear(in_features=3072, out_features=768, bias=True)\n",
              "            (LayerNorm): LayerNorm((768,), eps=1e-12, elementwise_affine=True)\n",
              "            (dropout): Dropout(p=0.1, inplace=False)\n",
              "          )\n",
              "        )\n",
              "        (5): BertLayer(\n",
              "          (attention): BertAttention(\n",
              "            (self): BertSelfAttention(\n",
              "              (query): Linear(in_features=768, out_features=768, bias=True)\n",
              "              (key): Linear(in_features=768, out_features=768, bias=True)\n",
              "              (value): Linear(in_features=768, out_features=768, bias=True)\n",
              "              (dropout): Dropout(p=0.1, inplace=False)\n",
              "            )\n",
              "            (output): BertSelfOutput(\n",
              "              (dense): Linear(in_features=768, out_features=768, bias=True)\n",
              "              (LayerNorm): LayerNorm((768,), eps=1e-12, elementwise_affine=True)\n",
              "              (dropout): Dropout(p=0.1, inplace=False)\n",
              "            )\n",
              "          )\n",
              "          (intermediate): BertIntermediate(\n",
              "            (dense): Linear(in_features=768, out_features=3072, bias=True)\n",
              "          )\n",
              "          (output): BertOutput(\n",
              "            (dense): Linear(in_features=3072, out_features=768, bias=True)\n",
              "            (LayerNorm): LayerNorm((768,), eps=1e-12, elementwise_affine=True)\n",
              "            (dropout): Dropout(p=0.1, inplace=False)\n",
              "          )\n",
              "        )\n",
              "        (6): BertLayer(\n",
              "          (attention): BertAttention(\n",
              "            (self): BertSelfAttention(\n",
              "              (query): Linear(in_features=768, out_features=768, bias=True)\n",
              "              (key): Linear(in_features=768, out_features=768, bias=True)\n",
              "              (value): Linear(in_features=768, out_features=768, bias=True)\n",
              "              (dropout): Dropout(p=0.1, inplace=False)\n",
              "            )\n",
              "            (output): BertSelfOutput(\n",
              "              (dense): Linear(in_features=768, out_features=768, bias=True)\n",
              "              (LayerNorm): LayerNorm((768,), eps=1e-12, elementwise_affine=True)\n",
              "              (dropout): Dropout(p=0.1, inplace=False)\n",
              "            )\n",
              "          )\n",
              "          (intermediate): BertIntermediate(\n",
              "            (dense): Linear(in_features=768, out_features=3072, bias=True)\n",
              "          )\n",
              "          (output): BertOutput(\n",
              "            (dense): Linear(in_features=3072, out_features=768, bias=True)\n",
              "            (LayerNorm): LayerNorm((768,), eps=1e-12, elementwise_affine=True)\n",
              "            (dropout): Dropout(p=0.1, inplace=False)\n",
              "          )\n",
              "        )\n",
              "        (7): BertLayer(\n",
              "          (attention): BertAttention(\n",
              "            (self): BertSelfAttention(\n",
              "              (query): Linear(in_features=768, out_features=768, bias=True)\n",
              "              (key): Linear(in_features=768, out_features=768, bias=True)\n",
              "              (value): Linear(in_features=768, out_features=768, bias=True)\n",
              "              (dropout): Dropout(p=0.1, inplace=False)\n",
              "            )\n",
              "            (output): BertSelfOutput(\n",
              "              (dense): Linear(in_features=768, out_features=768, bias=True)\n",
              "              (LayerNorm): LayerNorm((768,), eps=1e-12, elementwise_affine=True)\n",
              "              (dropout): Dropout(p=0.1, inplace=False)\n",
              "            )\n",
              "          )\n",
              "          (intermediate): BertIntermediate(\n",
              "            (dense): Linear(in_features=768, out_features=3072, bias=True)\n",
              "          )\n",
              "          (output): BertOutput(\n",
              "            (dense): Linear(in_features=3072, out_features=768, bias=True)\n",
              "            (LayerNorm): LayerNorm((768,), eps=1e-12, elementwise_affine=True)\n",
              "            (dropout): Dropout(p=0.1, inplace=False)\n",
              "          )\n",
              "        )\n",
              "        (8): BertLayer(\n",
              "          (attention): BertAttention(\n",
              "            (self): BertSelfAttention(\n",
              "              (query): Linear(in_features=768, out_features=768, bias=True)\n",
              "              (key): Linear(in_features=768, out_features=768, bias=True)\n",
              "              (value): Linear(in_features=768, out_features=768, bias=True)\n",
              "              (dropout): Dropout(p=0.1, inplace=False)\n",
              "            )\n",
              "            (output): BertSelfOutput(\n",
              "              (dense): Linear(in_features=768, out_features=768, bias=True)\n",
              "              (LayerNorm): LayerNorm((768,), eps=1e-12, elementwise_affine=True)\n",
              "              (dropout): Dropout(p=0.1, inplace=False)\n",
              "            )\n",
              "          )\n",
              "          (intermediate): BertIntermediate(\n",
              "            (dense): Linear(in_features=768, out_features=3072, bias=True)\n",
              "          )\n",
              "          (output): BertOutput(\n",
              "            (dense): Linear(in_features=3072, out_features=768, bias=True)\n",
              "            (LayerNorm): LayerNorm((768,), eps=1e-12, elementwise_affine=True)\n",
              "            (dropout): Dropout(p=0.1, inplace=False)\n",
              "          )\n",
              "        )\n",
              "        (9): BertLayer(\n",
              "          (attention): BertAttention(\n",
              "            (self): BertSelfAttention(\n",
              "              (query): Linear(in_features=768, out_features=768, bias=True)\n",
              "              (key): Linear(in_features=768, out_features=768, bias=True)\n",
              "              (value): Linear(in_features=768, out_features=768, bias=True)\n",
              "              (dropout): Dropout(p=0.1, inplace=False)\n",
              "            )\n",
              "            (output): BertSelfOutput(\n",
              "              (dense): Linear(in_features=768, out_features=768, bias=True)\n",
              "              (LayerNorm): LayerNorm((768,), eps=1e-12, elementwise_affine=True)\n",
              "              (dropout): Dropout(p=0.1, inplace=False)\n",
              "            )\n",
              "          )\n",
              "          (intermediate): BertIntermediate(\n",
              "            (dense): Linear(in_features=768, out_features=3072, bias=True)\n",
              "          )\n",
              "          (output): BertOutput(\n",
              "            (dense): Linear(in_features=3072, out_features=768, bias=True)\n",
              "            (LayerNorm): LayerNorm((768,), eps=1e-12, elementwise_affine=True)\n",
              "            (dropout): Dropout(p=0.1, inplace=False)\n",
              "          )\n",
              "        )\n",
              "        (10): BertLayer(\n",
              "          (attention): BertAttention(\n",
              "            (self): BertSelfAttention(\n",
              "              (query): Linear(in_features=768, out_features=768, bias=True)\n",
              "              (key): Linear(in_features=768, out_features=768, bias=True)\n",
              "              (value): Linear(in_features=768, out_features=768, bias=True)\n",
              "              (dropout): Dropout(p=0.1, inplace=False)\n",
              "            )\n",
              "            (output): BertSelfOutput(\n",
              "              (dense): Linear(in_features=768, out_features=768, bias=True)\n",
              "              (LayerNorm): LayerNorm((768,), eps=1e-12, elementwise_affine=True)\n",
              "              (dropout): Dropout(p=0.1, inplace=False)\n",
              "            )\n",
              "          )\n",
              "          (intermediate): BertIntermediate(\n",
              "            (dense): Linear(in_features=768, out_features=3072, bias=True)\n",
              "          )\n",
              "          (output): BertOutput(\n",
              "            (dense): Linear(in_features=3072, out_features=768, bias=True)\n",
              "            (LayerNorm): LayerNorm((768,), eps=1e-12, elementwise_affine=True)\n",
              "            (dropout): Dropout(p=0.1, inplace=False)\n",
              "          )\n",
              "        )\n",
              "        (11): BertLayer(\n",
              "          (attention): BertAttention(\n",
              "            (self): BertSelfAttention(\n",
              "              (query): Linear(in_features=768, out_features=768, bias=True)\n",
              "              (key): Linear(in_features=768, out_features=768, bias=True)\n",
              "              (value): Linear(in_features=768, out_features=768, bias=True)\n",
              "              (dropout): Dropout(p=0.1, inplace=False)\n",
              "            )\n",
              "            (output): BertSelfOutput(\n",
              "              (dense): Linear(in_features=768, out_features=768, bias=True)\n",
              "              (LayerNorm): LayerNorm((768,), eps=1e-12, elementwise_affine=True)\n",
              "              (dropout): Dropout(p=0.1, inplace=False)\n",
              "            )\n",
              "          )\n",
              "          (intermediate): BertIntermediate(\n",
              "            (dense): Linear(in_features=768, out_features=3072, bias=True)\n",
              "          )\n",
              "          (output): BertOutput(\n",
              "            (dense): Linear(in_features=3072, out_features=768, bias=True)\n",
              "            (LayerNorm): LayerNorm((768,), eps=1e-12, elementwise_affine=True)\n",
              "            (dropout): Dropout(p=0.1, inplace=False)\n",
              "          )\n",
              "        )\n",
              "      )\n",
              "    )\n",
              "    (pooler): BertPooler(\n",
              "      (dense): Linear(in_features=768, out_features=768, bias=True)\n",
              "      (activation): Tanh()\n",
              "    )\n",
              "  )\n",
              "  (drop): Dropout(p=0.3, inplace=False)\n",
              "  (out): Linear(in_features=768, out_features=9919, bias=True)\n",
              ")"
            ]
          },
          "metadata": {
            "tags": []
          },
          "execution_count": 40
        }
      ]
    },
    {
      "cell_type": "code",
      "metadata": {
        "id": "R46XeyKCJHaA"
      },
      "source": [
        "num_epochs = 2\n",
        "\n",
        "optimizer = AdamW(model.parameters(), lr=2e-5, correct_bias=False)\n",
        "\n",
        "total_steps = len(train_loader) * num_epochs\n",
        "\n",
        "scheduler = get_linear_schedule_with_warmup(\n",
        "  optimizer,\n",
        "  num_warmup_steps=0,\n",
        "  num_training_steps=total_steps\n",
        ")\n",
        "\n",
        "loss_fn = nn.CrossEntropyLoss().to(device)"
      ],
      "execution_count": null,
      "outputs": []
    },
    {
      "cell_type": "code",
      "metadata": {
        "id": "w12Iv6sxJSLG"
      },
      "source": [
        "def train_epoch(\n",
        "  model, \n",
        "  data_loader, \n",
        "  loss_fn, \n",
        "  optimizer, \n",
        "  device, \n",
        "  scheduler, \n",
        "  n_examples\n",
        "):\n",
        "  model = model.train()\n",
        "\n",
        "  losses = []\n",
        "  correct_predictions = 0\n",
        "  \n",
        "  for i,d in enumerate(data_loader):\n",
        "    if i%100 == 0:\n",
        "        print(f\"Processing batch {i+1}/{len(data_loader)}\")\n",
        "    input_ids = d[\"input_ids\"].to(device)\n",
        "    attention_mask = d[\"attention_mask\"].to(device)\n",
        "    labels = d[\"labels\"].to(device)\n",
        "\n",
        "    outputs = model(\n",
        "      input_ids=input_ids,\n",
        "      attention_mask=attention_mask\n",
        "    )\n",
        "\n",
        "    _, preds = torch.max(outputs, dim=1)\n",
        "    loss = loss_fn(outputs, labels)\n",
        "\n",
        "    correct_predictions += torch.sum(preds == labels)\n",
        "    # print(loss)\n",
        "    losses.append(loss.item())\n",
        "\n",
        "    loss.backward()\n",
        "    nn.utils.clip_grad_norm_(model.parameters(), max_norm=1.0)\n",
        "    optimizer.step()\n",
        "    scheduler.step()\n",
        "    optimizer.zero_grad()\n",
        "\n",
        "  return correct_predictions.double() / n_examples, np.mean(losses)"
      ],
      "execution_count": null,
      "outputs": []
    },
    {
      "cell_type": "code",
      "metadata": {
        "id": "3I1wdUl1JvLw"
      },
      "source": [
        "def eval_model(model, data_loader, loss_fn, device, n_examples):\n",
        "  model = model.eval()\n",
        "\n",
        "  losses = []\n",
        "  correct_predictions = 0\n",
        "\n",
        "  with torch.no_grad():\n",
        "    for i,d in enumerate(data_loader):\n",
        "      if i%100 == 0:\n",
        "          print(f\"Processing batch {i+1}/{len(data_loader)}\")\n",
        "      input_ids = d[\"input_ids\"].to(device)\n",
        "      attention_mask = d[\"attention_mask\"].to(device)\n",
        "      labels = d[\"labels\"].to(device)\n",
        "\n",
        "      outputs = model(\n",
        "        input_ids=input_ids,\n",
        "        attention_mask=attention_mask\n",
        "      )\n",
        "      _, preds = torch.max(outputs, dim=1)\n",
        "\n",
        "      loss = loss_fn(outputs, labels)\n",
        "\n",
        "      correct_predictions += torch.sum(preds == labels)\n",
        "      losses.append(loss.item())\n",
        "\n",
        "  return correct_predictions.double() / n_examples, np.mean(losses)"
      ],
      "execution_count": null,
      "outputs": []
    },
    {
      "cell_type": "code",
      "metadata": {
        "colab": {
          "base_uri": "https://localhost:8080/",
          "height": 1000
        },
        "id": "BhZqTN1TJxl3",
        "outputId": "1ea87143-d9aa-48e0-cfc0-b8ebcab01bf9"
      },
      "source": [
        "%%time\n",
        "\n",
        "history = defaultdict(list)\n",
        "best_accuracy = 0\n",
        "\n",
        "for epoch in tqdm(range(num_epochs)):\n",
        "\n",
        "  print(f'Epoch {epoch + 1}/{num_epochs}')\n",
        "  print('-' * 10)\n",
        "\n",
        "  train_acc, train_loss = train_epoch(\n",
        "    model,\n",
        "    train_loader,    \n",
        "    loss_fn, \n",
        "    optimizer, \n",
        "    device, \n",
        "    scheduler, \n",
        "    len(train_labels)\n",
        "  )\n",
        "\n",
        "  print(f'Train loss {train_loss} accuracy {train_acc}')\n",
        "\n",
        "  val_acc, val_loss = eval_model(\n",
        "    model,\n",
        "    val_loader,\n",
        "    loss_fn, \n",
        "    device, \n",
        "    len(val_labels)\n",
        "  )\n",
        "\n",
        "  print(f'Val   loss {val_loss} accuracy {val_acc}')\n",
        "  print()\n",
        "\n",
        "  history['train_acc'].append(train_acc)\n",
        "  history['train_loss'].append(train_loss)\n",
        "  history['val_acc'].append(val_acc)\n",
        "  history['val_loss'].append(val_loss)\n",
        "\n",
        "  if val_acc > best_accuracy:\n",
        "    torch.save(model.state_dict(), 'best_model_state.bin')\n",
        "    best_accuracy = val_acc"
      ],
      "execution_count": null,
      "outputs": [
        {
          "output_type": "stream",
          "text": [
            "\r  0%|          | 0/2 [00:00<?, ?it/s]/usr/local/lib/python3.7/dist-packages/transformers/tokenization_utils_base.py:2190: FutureWarning: The `pad_to_max_length` argument is deprecated and will be removed in a future version, use `padding=True` or `padding='longest'` to pad to the longest sequence in the batch, or use `padding='max_length'` to pad to a max length. In this case, you can give a specific length with `max_length` (e.g. `max_length=45`) or leave max_length to None to pad to the maximal input size of the model (e.g. 512 for Bert).\n",
            "  FutureWarning,\n"
          ],
          "name": "stderr"
        },
        {
          "output_type": "stream",
          "text": [
            "Epoch 1/2\n",
            "----------\n",
            "Processing batch 1/39396\n",
            "Processing batch 101/39396\n",
            "Processing batch 201/39396\n",
            "Processing batch 301/39396\n",
            "Processing batch 401/39396\n",
            "Processing batch 501/39396\n",
            "Processing batch 601/39396\n",
            "Processing batch 701/39396\n",
            "Processing batch 801/39396\n",
            "Processing batch 901/39396\n",
            "Processing batch 1001/39396\n",
            "Processing batch 1101/39396\n",
            "Processing batch 1201/39396\n",
            "Processing batch 1301/39396\n",
            "Processing batch 1401/39396\n",
            "Processing batch 1501/39396\n",
            "Processing batch 1601/39396\n",
            "Processing batch 1701/39396\n",
            "Processing batch 1801/39396\n",
            "Processing batch 1901/39396\n",
            "Processing batch 2001/39396\n",
            "Processing batch 2101/39396\n",
            "Processing batch 2201/39396\n",
            "Processing batch 2301/39396\n",
            "Processing batch 2401/39396\n",
            "Processing batch 2501/39396\n",
            "Processing batch 2601/39396\n",
            "Processing batch 2701/39396\n",
            "Processing batch 2801/39396\n",
            "Processing batch 2901/39396\n",
            "Processing batch 3001/39396\n",
            "Processing batch 3101/39396\n",
            "Processing batch 3201/39396\n",
            "Processing batch 3301/39396\n",
            "Processing batch 3401/39396\n",
            "Processing batch 3501/39396\n",
            "Processing batch 3601/39396\n",
            "Processing batch 3701/39396\n",
            "Processing batch 3801/39396\n",
            "Processing batch 3901/39396\n",
            "Processing batch 4001/39396\n",
            "Processing batch 4101/39396\n",
            "Processing batch 4201/39396\n",
            "Processing batch 4301/39396\n",
            "Processing batch 4401/39396\n",
            "Processing batch 4501/39396\n",
            "Processing batch 4601/39396\n",
            "Processing batch 4701/39396\n",
            "Processing batch 4801/39396\n",
            "Processing batch 4901/39396\n",
            "Processing batch 5001/39396\n",
            "Processing batch 5101/39396\n",
            "Processing batch 5201/39396\n",
            "Processing batch 5301/39396\n",
            "Processing batch 5401/39396\n",
            "Processing batch 5501/39396\n",
            "Processing batch 5601/39396\n",
            "Processing batch 5701/39396\n",
            "Processing batch 5801/39396\n",
            "Processing batch 5901/39396\n",
            "Processing batch 6001/39396\n",
            "Processing batch 6101/39396\n",
            "Processing batch 6201/39396\n",
            "Processing batch 6301/39396\n",
            "Processing batch 6401/39396\n",
            "Processing batch 6501/39396\n",
            "Processing batch 6601/39396\n",
            "Processing batch 6701/39396\n",
            "Processing batch 6801/39396\n",
            "Processing batch 6901/39396\n",
            "Processing batch 7001/39396\n",
            "Processing batch 7101/39396\n",
            "Processing batch 7201/39396\n",
            "Processing batch 7301/39396\n",
            "Processing batch 7401/39396\n",
            "Processing batch 7501/39396\n",
            "Processing batch 7601/39396\n",
            "Processing batch 7701/39396\n",
            "Processing batch 7801/39396\n",
            "Processing batch 7901/39396\n",
            "Processing batch 8001/39396\n",
            "Processing batch 8101/39396\n",
            "Processing batch 8201/39396\n",
            "Processing batch 8301/39396\n",
            "Processing batch 8401/39396\n",
            "Processing batch 8501/39396\n",
            "Processing batch 8601/39396\n",
            "Processing batch 8701/39396\n",
            "Processing batch 8801/39396\n",
            "Processing batch 8901/39396\n",
            "Processing batch 9001/39396\n",
            "Processing batch 9101/39396\n",
            "Processing batch 9201/39396\n",
            "Processing batch 9301/39396\n",
            "Processing batch 9401/39396\n",
            "Processing batch 9501/39396\n",
            "Processing batch 9601/39396\n",
            "Processing batch 9701/39396\n",
            "Processing batch 9801/39396\n",
            "Processing batch 9901/39396\n",
            "Processing batch 10001/39396\n",
            "Processing batch 10101/39396\n",
            "Processing batch 10201/39396\n",
            "Processing batch 10301/39396\n",
            "Processing batch 10401/39396\n",
            "Processing batch 10501/39396\n",
            "Processing batch 10601/39396\n",
            "Processing batch 10701/39396\n",
            "Processing batch 10801/39396\n",
            "Processing batch 10901/39396\n",
            "Processing batch 11001/39396\n",
            "Processing batch 11101/39396\n",
            "Processing batch 11201/39396\n",
            "Processing batch 11301/39396\n",
            "Processing batch 11401/39396\n",
            "Processing batch 11501/39396\n",
            "Processing batch 11601/39396\n",
            "Processing batch 11701/39396\n",
            "Processing batch 11801/39396\n",
            "Processing batch 11901/39396\n",
            "Processing batch 12001/39396\n",
            "Processing batch 12101/39396\n",
            "Processing batch 12201/39396\n",
            "Processing batch 12301/39396\n",
            "Processing batch 12401/39396\n",
            "Processing batch 12501/39396\n",
            "Processing batch 12601/39396\n",
            "Processing batch 12701/39396\n",
            "Processing batch 12801/39396\n",
            "Processing batch 12901/39396\n",
            "Processing batch 13001/39396\n",
            "Processing batch 13101/39396\n",
            "Processing batch 13201/39396\n",
            "Processing batch 13301/39396\n",
            "Processing batch 13401/39396\n",
            "Processing batch 13501/39396\n",
            "Processing batch 13601/39396\n",
            "Processing batch 13701/39396\n",
            "Processing batch 13801/39396\n",
            "Processing batch 13901/39396\n",
            "Processing batch 14001/39396\n",
            "Processing batch 14101/39396\n",
            "Processing batch 14201/39396\n",
            "Processing batch 14301/39396\n",
            "Processing batch 14401/39396\n",
            "Processing batch 14501/39396\n",
            "Processing batch 14601/39396\n",
            "Processing batch 14701/39396\n",
            "Processing batch 14801/39396\n",
            "Processing batch 14901/39396\n",
            "Processing batch 15001/39396\n",
            "Processing batch 15101/39396\n",
            "Processing batch 15201/39396\n",
            "Processing batch 15301/39396\n",
            "Processing batch 15401/39396\n",
            "Processing batch 15501/39396\n",
            "Processing batch 15601/39396\n",
            "Processing batch 15701/39396\n",
            "Processing batch 15801/39396\n",
            "Processing batch 15901/39396\n",
            "Processing batch 16001/39396\n",
            "Processing batch 16101/39396\n",
            "Processing batch 16201/39396\n",
            "Processing batch 16301/39396\n",
            "Processing batch 16401/39396\n",
            "Processing batch 16501/39396\n",
            "Processing batch 16601/39396\n",
            "Processing batch 16701/39396\n",
            "Processing batch 16801/39396\n",
            "Processing batch 16901/39396\n",
            "Processing batch 17001/39396\n",
            "Processing batch 17101/39396\n",
            "Processing batch 17201/39396\n",
            "Processing batch 17301/39396\n",
            "Processing batch 17401/39396\n",
            "Processing batch 17501/39396\n",
            "Processing batch 17601/39396\n",
            "Processing batch 17701/39396\n",
            "Processing batch 17801/39396\n",
            "Processing batch 17901/39396\n",
            "Processing batch 18001/39396\n",
            "Processing batch 18101/39396\n",
            "Processing batch 18201/39396\n",
            "Processing batch 18301/39396\n",
            "Processing batch 18401/39396\n",
            "Processing batch 18501/39396\n",
            "Processing batch 18601/39396\n",
            "Processing batch 18701/39396\n",
            "Processing batch 18801/39396\n",
            "Processing batch 18901/39396\n",
            "Processing batch 19001/39396\n",
            "Processing batch 19101/39396\n",
            "Processing batch 19201/39396\n",
            "Processing batch 19301/39396\n",
            "Processing batch 19401/39396\n",
            "Processing batch 19501/39396\n",
            "Processing batch 19601/39396\n",
            "Processing batch 19701/39396\n",
            "Processing batch 19801/39396\n",
            "Processing batch 19901/39396\n",
            "Processing batch 20001/39396\n",
            "Processing batch 20101/39396\n",
            "Processing batch 20201/39396\n",
            "Processing batch 20301/39396\n",
            "Processing batch 20401/39396\n",
            "Processing batch 20501/39396\n",
            "Processing batch 20601/39396\n",
            "Processing batch 20701/39396\n",
            "Processing batch 20801/39396\n",
            "Processing batch 20901/39396\n",
            "Processing batch 21001/39396\n",
            "Processing batch 21101/39396\n",
            "Processing batch 21201/39396\n",
            "Processing batch 21301/39396\n",
            "Processing batch 21401/39396\n",
            "Processing batch 21501/39396\n",
            "Processing batch 21601/39396\n",
            "Processing batch 21701/39396\n",
            "Processing batch 21801/39396\n",
            "Processing batch 21901/39396\n",
            "Processing batch 22001/39396\n",
            "Processing batch 22101/39396\n",
            "Processing batch 22201/39396\n",
            "Processing batch 22301/39396\n",
            "Processing batch 22401/39396\n",
            "Processing batch 22501/39396\n",
            "Processing batch 22601/39396\n",
            "Processing batch 22701/39396\n",
            "Processing batch 22801/39396\n",
            "Processing batch 22901/39396\n",
            "Processing batch 23001/39396\n",
            "Processing batch 23101/39396\n",
            "Processing batch 23201/39396\n",
            "Processing batch 23301/39396\n",
            "Processing batch 23401/39396\n",
            "Processing batch 23501/39396\n",
            "Processing batch 23601/39396\n",
            "Processing batch 23701/39396\n",
            "Processing batch 23801/39396\n",
            "Processing batch 23901/39396\n",
            "Processing batch 24001/39396\n",
            "Processing batch 24101/39396\n",
            "Processing batch 24201/39396\n",
            "Processing batch 24301/39396\n",
            "Processing batch 24401/39396\n",
            "Processing batch 24501/39396\n",
            "Processing batch 24601/39396\n",
            "Processing batch 24701/39396\n",
            "Processing batch 24801/39396\n",
            "Processing batch 24901/39396\n",
            "Processing batch 25001/39396\n",
            "Processing batch 25101/39396\n",
            "Processing batch 25201/39396\n",
            "Processing batch 25301/39396\n",
            "Processing batch 25401/39396\n",
            "Processing batch 25501/39396\n",
            "Processing batch 25601/39396\n",
            "Processing batch 25701/39396\n",
            "Processing batch 25801/39396\n",
            "Processing batch 25901/39396\n",
            "Processing batch 26001/39396\n",
            "Processing batch 26101/39396\n",
            "Processing batch 26201/39396\n",
            "Processing batch 26301/39396\n",
            "Processing batch 26401/39396\n",
            "Processing batch 26501/39396\n",
            "Processing batch 26601/39396\n",
            "Processing batch 26701/39396\n",
            "Processing batch 26801/39396\n",
            "Processing batch 26901/39396\n",
            "Processing batch 27001/39396\n",
            "Processing batch 27101/39396\n",
            "Processing batch 27201/39396\n",
            "Processing batch 27301/39396\n",
            "Processing batch 27401/39396\n",
            "Processing batch 27501/39396\n",
            "Processing batch 27601/39396\n",
            "Processing batch 27701/39396\n",
            "Processing batch 27801/39396\n",
            "Processing batch 27901/39396\n",
            "Processing batch 28001/39396\n",
            "Processing batch 28101/39396\n",
            "Processing batch 28201/39396\n",
            "Processing batch 28301/39396\n",
            "Processing batch 28401/39396\n",
            "Processing batch 28501/39396\n",
            "Processing batch 28601/39396\n",
            "Processing batch 28701/39396\n",
            "Processing batch 28801/39396\n",
            "Processing batch 28901/39396\n",
            "Processing batch 29001/39396\n",
            "Processing batch 29101/39396\n",
            "Processing batch 29201/39396\n",
            "Processing batch 29301/39396\n",
            "Processing batch 29401/39396\n",
            "Processing batch 29501/39396\n",
            "Processing batch 29601/39396\n",
            "Processing batch 29701/39396\n",
            "Processing batch 29801/39396\n",
            "Processing batch 29901/39396\n",
            "Processing batch 30001/39396\n",
            "Processing batch 30101/39396\n",
            "Processing batch 30201/39396\n",
            "Processing batch 30301/39396\n",
            "Processing batch 30401/39396\n",
            "Processing batch 30501/39396\n",
            "Processing batch 30601/39396\n",
            "Processing batch 30701/39396\n",
            "Processing batch 30801/39396\n",
            "Processing batch 30901/39396\n",
            "Processing batch 31001/39396\n",
            "Processing batch 31101/39396\n",
            "Processing batch 31201/39396\n",
            "Processing batch 31301/39396\n",
            "Processing batch 31401/39396\n",
            "Processing batch 31501/39396\n",
            "Processing batch 31601/39396\n",
            "Processing batch 31701/39396\n",
            "Processing batch 31801/39396\n",
            "Processing batch 31901/39396\n",
            "Processing batch 32001/39396\n"
          ],
          "name": "stdout"
        },
        {
          "output_type": "error",
          "ename": "KeyboardInterrupt",
          "evalue": "ignored",
          "traceback": [
            "\u001b[0;31m---------------------------------------------------------------------------\u001b[0m",
            "\u001b[0;31mKeyboardInterrupt\u001b[0m                         Traceback (most recent call last)",
            "\u001b[0;32m<ipython-input-44-43b39aa91701>\u001b[0m in \u001b[0;36m<module>\u001b[0;34m()\u001b[0m\n\u001b[0;32m----> 1\u001b[0;31m \u001b[0mget_ipython\u001b[0m\u001b[0;34m(\u001b[0m\u001b[0;34m)\u001b[0m\u001b[0;34m.\u001b[0m\u001b[0mrun_cell_magic\u001b[0m\u001b[0;34m(\u001b[0m\u001b[0;34m'time'\u001b[0m\u001b[0;34m,\u001b[0m \u001b[0;34m''\u001b[0m\u001b[0;34m,\u001b[0m \u001b[0;34m\"\\nhistory = defaultdict(list)\\nbest_accuracy = 0\\n\\nfor epoch in tqdm(range(num_epochs)):\\n\\n  print(f'Epoch {epoch + 1}/{num_epochs}')\\n  print('-' * 10)\\n\\n  train_acc, train_loss = train_epoch(\\n    model,\\n    train_loader,    \\n    loss_fn, \\n    optimizer, \\n    device, \\n    scheduler, \\n    len(train_labels)\\n  )\\n\\n  print(f'Train loss {train_loss} accuracy {train_acc}')\\n\\n  val_acc, val_loss = eval_model(\\n    model,\\n    val_loader,\\n    loss_fn, \\n    device, \\n    len(val_labels)\\n  )\\n\\n  print(f'Val   loss {val_loss} accuracy {val_acc}')\\n  print()\\n\\n  history['train_acc'].append(train_acc)\\n  history['train_loss'].append(train_loss)\\n  history['val_acc'].append(val_acc)\\n  history['val_loss'].append(val_loss)\\n\\n  if val_acc > best_accuracy:\\n    torch.save(model.state_dict(), 'best_model_state.bin')\\n    best_accuracy = val_acc\"\u001b[0m\u001b[0;34m)\u001b[0m\u001b[0;34m\u001b[0m\u001b[0;34m\u001b[0m\u001b[0m\n\u001b[0m",
            "\u001b[0;32m/usr/local/lib/python3.7/dist-packages/IPython/core/interactiveshell.py\u001b[0m in \u001b[0;36mrun_cell_magic\u001b[0;34m(self, magic_name, line, cell)\u001b[0m\n\u001b[1;32m   2115\u001b[0m             \u001b[0mmagic_arg_s\u001b[0m \u001b[0;34m=\u001b[0m \u001b[0mself\u001b[0m\u001b[0;34m.\u001b[0m\u001b[0mvar_expand\u001b[0m\u001b[0;34m(\u001b[0m\u001b[0mline\u001b[0m\u001b[0;34m,\u001b[0m \u001b[0mstack_depth\u001b[0m\u001b[0;34m)\u001b[0m\u001b[0;34m\u001b[0m\u001b[0;34m\u001b[0m\u001b[0m\n\u001b[1;32m   2116\u001b[0m             \u001b[0;32mwith\u001b[0m \u001b[0mself\u001b[0m\u001b[0;34m.\u001b[0m\u001b[0mbuiltin_trap\u001b[0m\u001b[0;34m:\u001b[0m\u001b[0;34m\u001b[0m\u001b[0;34m\u001b[0m\u001b[0m\n\u001b[0;32m-> 2117\u001b[0;31m                 \u001b[0mresult\u001b[0m \u001b[0;34m=\u001b[0m \u001b[0mfn\u001b[0m\u001b[0;34m(\u001b[0m\u001b[0mmagic_arg_s\u001b[0m\u001b[0;34m,\u001b[0m \u001b[0mcell\u001b[0m\u001b[0;34m)\u001b[0m\u001b[0;34m\u001b[0m\u001b[0;34m\u001b[0m\u001b[0m\n\u001b[0m\u001b[1;32m   2118\u001b[0m             \u001b[0;32mreturn\u001b[0m \u001b[0mresult\u001b[0m\u001b[0;34m\u001b[0m\u001b[0;34m\u001b[0m\u001b[0m\n\u001b[1;32m   2119\u001b[0m \u001b[0;34m\u001b[0m\u001b[0m\n",
            "\u001b[0;32m<decorator-gen-53>\u001b[0m in \u001b[0;36mtime\u001b[0;34m(self, line, cell, local_ns)\u001b[0m\n",
            "\u001b[0;32m/usr/local/lib/python3.7/dist-packages/IPython/core/magic.py\u001b[0m in \u001b[0;36m<lambda>\u001b[0;34m(f, *a, **k)\u001b[0m\n\u001b[1;32m    186\u001b[0m     \u001b[0;31m# but it's overkill for just that one bit of state.\u001b[0m\u001b[0;34m\u001b[0m\u001b[0;34m\u001b[0m\u001b[0;34m\u001b[0m\u001b[0m\n\u001b[1;32m    187\u001b[0m     \u001b[0;32mdef\u001b[0m \u001b[0mmagic_deco\u001b[0m\u001b[0;34m(\u001b[0m\u001b[0marg\u001b[0m\u001b[0;34m)\u001b[0m\u001b[0;34m:\u001b[0m\u001b[0;34m\u001b[0m\u001b[0;34m\u001b[0m\u001b[0m\n\u001b[0;32m--> 188\u001b[0;31m         \u001b[0mcall\u001b[0m \u001b[0;34m=\u001b[0m \u001b[0;32mlambda\u001b[0m \u001b[0mf\u001b[0m\u001b[0;34m,\u001b[0m \u001b[0;34m*\u001b[0m\u001b[0ma\u001b[0m\u001b[0;34m,\u001b[0m \u001b[0;34m**\u001b[0m\u001b[0mk\u001b[0m\u001b[0;34m:\u001b[0m \u001b[0mf\u001b[0m\u001b[0;34m(\u001b[0m\u001b[0;34m*\u001b[0m\u001b[0ma\u001b[0m\u001b[0;34m,\u001b[0m \u001b[0;34m**\u001b[0m\u001b[0mk\u001b[0m\u001b[0;34m)\u001b[0m\u001b[0;34m\u001b[0m\u001b[0;34m\u001b[0m\u001b[0m\n\u001b[0m\u001b[1;32m    189\u001b[0m \u001b[0;34m\u001b[0m\u001b[0m\n\u001b[1;32m    190\u001b[0m         \u001b[0;32mif\u001b[0m \u001b[0mcallable\u001b[0m\u001b[0;34m(\u001b[0m\u001b[0marg\u001b[0m\u001b[0;34m)\u001b[0m\u001b[0;34m:\u001b[0m\u001b[0;34m\u001b[0m\u001b[0;34m\u001b[0m\u001b[0m\n",
            "\u001b[0;32m/usr/local/lib/python3.7/dist-packages/IPython/core/magics/execution.py\u001b[0m in \u001b[0;36mtime\u001b[0;34m(self, line, cell, local_ns)\u001b[0m\n\u001b[1;32m   1191\u001b[0m         \u001b[0;32melse\u001b[0m\u001b[0;34m:\u001b[0m\u001b[0;34m\u001b[0m\u001b[0;34m\u001b[0m\u001b[0m\n\u001b[1;32m   1192\u001b[0m             \u001b[0mst\u001b[0m \u001b[0;34m=\u001b[0m \u001b[0mclock2\u001b[0m\u001b[0;34m(\u001b[0m\u001b[0;34m)\u001b[0m\u001b[0;34m\u001b[0m\u001b[0;34m\u001b[0m\u001b[0m\n\u001b[0;32m-> 1193\u001b[0;31m             \u001b[0mexec\u001b[0m\u001b[0;34m(\u001b[0m\u001b[0mcode\u001b[0m\u001b[0;34m,\u001b[0m \u001b[0mglob\u001b[0m\u001b[0;34m,\u001b[0m \u001b[0mlocal_ns\u001b[0m\u001b[0;34m)\u001b[0m\u001b[0;34m\u001b[0m\u001b[0;34m\u001b[0m\u001b[0m\n\u001b[0m\u001b[1;32m   1194\u001b[0m             \u001b[0mend\u001b[0m \u001b[0;34m=\u001b[0m \u001b[0mclock2\u001b[0m\u001b[0;34m(\u001b[0m\u001b[0;34m)\u001b[0m\u001b[0;34m\u001b[0m\u001b[0;34m\u001b[0m\u001b[0m\n\u001b[1;32m   1195\u001b[0m             \u001b[0mout\u001b[0m \u001b[0;34m=\u001b[0m \u001b[0;32mNone\u001b[0m\u001b[0;34m\u001b[0m\u001b[0;34m\u001b[0m\u001b[0m\n",
            "\u001b[0;32m<timed exec>\u001b[0m in \u001b[0;36m<module>\u001b[0;34m()\u001b[0m\n",
            "\u001b[0;32m<ipython-input-42-65c19ffcfc7d>\u001b[0m in \u001b[0;36mtrain_epoch\u001b[0;34m(model, data_loader, loss_fn, optimizer, device, scheduler, n_examples)\u001b[0m\n\u001b[1;32m     32\u001b[0m     \u001b[0mlosses\u001b[0m\u001b[0;34m.\u001b[0m\u001b[0mappend\u001b[0m\u001b[0;34m(\u001b[0m\u001b[0mloss\u001b[0m\u001b[0;34m.\u001b[0m\u001b[0mitem\u001b[0m\u001b[0;34m(\u001b[0m\u001b[0;34m)\u001b[0m\u001b[0;34m)\u001b[0m\u001b[0;34m\u001b[0m\u001b[0;34m\u001b[0m\u001b[0m\n\u001b[1;32m     33\u001b[0m \u001b[0;34m\u001b[0m\u001b[0m\n\u001b[0;32m---> 34\u001b[0;31m     \u001b[0mloss\u001b[0m\u001b[0;34m.\u001b[0m\u001b[0mbackward\u001b[0m\u001b[0;34m(\u001b[0m\u001b[0;34m)\u001b[0m\u001b[0;34m\u001b[0m\u001b[0;34m\u001b[0m\u001b[0m\n\u001b[0m\u001b[1;32m     35\u001b[0m     \u001b[0mnn\u001b[0m\u001b[0;34m.\u001b[0m\u001b[0mutils\u001b[0m\u001b[0;34m.\u001b[0m\u001b[0mclip_grad_norm_\u001b[0m\u001b[0;34m(\u001b[0m\u001b[0mmodel\u001b[0m\u001b[0;34m.\u001b[0m\u001b[0mparameters\u001b[0m\u001b[0;34m(\u001b[0m\u001b[0;34m)\u001b[0m\u001b[0;34m,\u001b[0m \u001b[0mmax_norm\u001b[0m\u001b[0;34m=\u001b[0m\u001b[0;36m1.0\u001b[0m\u001b[0;34m)\u001b[0m\u001b[0;34m\u001b[0m\u001b[0;34m\u001b[0m\u001b[0m\n\u001b[1;32m     36\u001b[0m     \u001b[0moptimizer\u001b[0m\u001b[0;34m.\u001b[0m\u001b[0mstep\u001b[0m\u001b[0;34m(\u001b[0m\u001b[0;34m)\u001b[0m\u001b[0;34m\u001b[0m\u001b[0;34m\u001b[0m\u001b[0m\n",
            "\u001b[0;32m/usr/local/lib/python3.7/dist-packages/torch/_tensor.py\u001b[0m in \u001b[0;36mbackward\u001b[0;34m(self, gradient, retain_graph, create_graph, inputs)\u001b[0m\n\u001b[1;32m    253\u001b[0m                 \u001b[0mcreate_graph\u001b[0m\u001b[0;34m=\u001b[0m\u001b[0mcreate_graph\u001b[0m\u001b[0;34m,\u001b[0m\u001b[0;34m\u001b[0m\u001b[0;34m\u001b[0m\u001b[0m\n\u001b[1;32m    254\u001b[0m                 inputs=inputs)\n\u001b[0;32m--> 255\u001b[0;31m         \u001b[0mtorch\u001b[0m\u001b[0;34m.\u001b[0m\u001b[0mautograd\u001b[0m\u001b[0;34m.\u001b[0m\u001b[0mbackward\u001b[0m\u001b[0;34m(\u001b[0m\u001b[0mself\u001b[0m\u001b[0;34m,\u001b[0m \u001b[0mgradient\u001b[0m\u001b[0;34m,\u001b[0m \u001b[0mretain_graph\u001b[0m\u001b[0;34m,\u001b[0m \u001b[0mcreate_graph\u001b[0m\u001b[0;34m,\u001b[0m \u001b[0minputs\u001b[0m\u001b[0;34m=\u001b[0m\u001b[0minputs\u001b[0m\u001b[0;34m)\u001b[0m\u001b[0;34m\u001b[0m\u001b[0;34m\u001b[0m\u001b[0m\n\u001b[0m\u001b[1;32m    256\u001b[0m \u001b[0;34m\u001b[0m\u001b[0m\n\u001b[1;32m    257\u001b[0m     \u001b[0;32mdef\u001b[0m \u001b[0mregister_hook\u001b[0m\u001b[0;34m(\u001b[0m\u001b[0mself\u001b[0m\u001b[0;34m,\u001b[0m \u001b[0mhook\u001b[0m\u001b[0;34m)\u001b[0m\u001b[0;34m:\u001b[0m\u001b[0;34m\u001b[0m\u001b[0;34m\u001b[0m\u001b[0m\n",
            "\u001b[0;32m/usr/local/lib/python3.7/dist-packages/torch/autograd/__init__.py\u001b[0m in \u001b[0;36mbackward\u001b[0;34m(tensors, grad_tensors, retain_graph, create_graph, grad_variables, inputs)\u001b[0m\n\u001b[1;32m    147\u001b[0m     Variable._execution_engine.run_backward(\n\u001b[1;32m    148\u001b[0m         \u001b[0mtensors\u001b[0m\u001b[0;34m,\u001b[0m \u001b[0mgrad_tensors_\u001b[0m\u001b[0;34m,\u001b[0m \u001b[0mretain_graph\u001b[0m\u001b[0;34m,\u001b[0m \u001b[0mcreate_graph\u001b[0m\u001b[0;34m,\u001b[0m \u001b[0minputs\u001b[0m\u001b[0;34m,\u001b[0m\u001b[0;34m\u001b[0m\u001b[0;34m\u001b[0m\u001b[0m\n\u001b[0;32m--> 149\u001b[0;31m         allow_unreachable=True, accumulate_grad=True)  # allow_unreachable flag\n\u001b[0m\u001b[1;32m    150\u001b[0m \u001b[0;34m\u001b[0m\u001b[0m\n\u001b[1;32m    151\u001b[0m \u001b[0;34m\u001b[0m\u001b[0m\n",
            "\u001b[0;31mKeyboardInterrupt\u001b[0m: "
          ]
        }
      ]
    },
    {
      "cell_type": "code",
      "metadata": {
        "colab": {
          "base_uri": "https://localhost:8080/"
        },
        "id": "wuJ1_SeMxiZZ",
        "outputId": "be91347a-16d4-4940-ca9e-6e698cfbc05c"
      },
      "source": [
        "val_acc, val_loss = eval_model(\n",
        "model,\n",
        "val_loader,\n",
        "loss_fn, \n",
        "device, \n",
        "len(val_labels)\n",
        ")\n",
        "\n",
        "print(f'Val   loss {val_loss} accuracy {val_acc}')"
      ],
      "execution_count": null,
      "outputs": [
        {
          "output_type": "stream",
          "text": [
            "/usr/local/lib/python3.7/dist-packages/transformers/tokenization_utils_base.py:2190: FutureWarning: The `pad_to_max_length` argument is deprecated and will be removed in a future version, use `padding=True` or `padding='longest'` to pad to the longest sequence in the batch, or use `padding='max_length'` to pad to a max length. In this case, you can give a specific length with `max_length` (e.g. `max_length=45`) or leave max_length to None to pad to the maximal input size of the model (e.g. 512 for Bert).\n",
            "  FutureWarning,\n"
          ],
          "name": "stderr"
        },
        {
          "output_type": "stream",
          "text": [
            "Processing batch 1/4378\n",
            "Processing batch 101/4378\n",
            "Processing batch 201/4378\n",
            "Processing batch 301/4378\n",
            "Processing batch 401/4378\n",
            "Processing batch 501/4378\n",
            "Processing batch 601/4378\n",
            "Processing batch 701/4378\n",
            "Processing batch 801/4378\n",
            "Processing batch 901/4378\n",
            "Processing batch 1001/4378\n",
            "Processing batch 1101/4378\n",
            "Processing batch 1201/4378\n",
            "Processing batch 1301/4378\n",
            "Processing batch 1401/4378\n",
            "Processing batch 1501/4378\n",
            "Processing batch 1601/4378\n",
            "Processing batch 1701/4378\n",
            "Processing batch 1801/4378\n",
            "Processing batch 1901/4378\n",
            "Processing batch 2001/4378\n",
            "Processing batch 2101/4378\n",
            "Processing batch 2201/4378\n",
            "Processing batch 2301/4378\n",
            "Processing batch 2401/4378\n",
            "Processing batch 2501/4378\n",
            "Processing batch 2601/4378\n",
            "Processing batch 2701/4378\n",
            "Processing batch 2801/4378\n",
            "Processing batch 2901/4378\n",
            "Processing batch 3001/4378\n",
            "Processing batch 3101/4378\n",
            "Processing batch 3201/4378\n",
            "Processing batch 3301/4378\n",
            "Processing batch 3401/4378\n",
            "Processing batch 3501/4378\n",
            "Processing batch 3601/4378\n",
            "Processing batch 3701/4378\n",
            "Processing batch 3801/4378\n",
            "Processing batch 3901/4378\n",
            "Processing batch 4001/4378\n",
            "Processing batch 4101/4378\n",
            "Processing batch 4201/4378\n",
            "Processing batch 4301/4378\n",
            "Val   loss 1.2697275229012819 accuracy 0.7533687671115521\n"
          ],
          "name": "stdout"
        }
      ]
    },
    {
      "cell_type": "code",
      "metadata": {
        "colab": {
          "base_uri": "https://localhost:8080/",
          "height": 295
        },
        "id": "1ZiIvRraJ0eE",
        "outputId": "1d77c8b3-3e1a-44ce-e408-9798e7f591f7"
      },
      "source": [
        "plt.plot(history['train_acc'], label='train accuracy')\n",
        "plt.plot(history['val_acc'], label='validation accuracy')\n",
        "\n",
        "plt.title('Training history')\n",
        "plt.ylabel('Accuracy')\n",
        "plt.xlabel('Epoch')\n",
        "plt.legend()\n",
        "plt.ylim([0, 1]);"
      ],
      "execution_count": null,
      "outputs": [
        {
          "output_type": "display_data",
          "data": {
            "image/png": "[encoded data removed]",
            "text/plain": [
              "<Figure size 432x288 with 1 Axes>"
            ]
          },
          "metadata": {
            "tags": [],
            "needs_background": "light"
          }
        }
      ]
    },
    {
      "cell_type": "code",
      "metadata": {
        "id": "zcN3dAK2iurR"
      },
      "source": [
        "class AmazonDataset_test(Dataset):\n",
        "\n",
        "  def __init__(self,ids, sentences, tokenizer, max_length):\n",
        "    self.sentences = sentences\n",
        "    self.ids = ids\n",
        "    self.tokenizer = tokenizer\n",
        "    self.max_length = max_length\n",
        "  \n",
        "  def __len__(self):\n",
        "    return len(self.sentences)\n",
        "  \n",
        "  def __getitem__(self, idx):\n",
        "    sentence = str(self.sentences[idx])\n",
        "    encoding = self.tokenizer.encode_plus(\n",
        "      sentence,\n",
        "      add_special_tokens=True,\n",
        "      max_length=self.max_length,\n",
        "      return_token_type_ids=False,\n",
        "      pad_to_max_length=True,\n",
        "      return_attention_mask=True,\n",
        "      return_tensors='pt',\n",
        "    )\n",
        "\n",
        "\n",
        "    return {\n",
        "        'sentence': sentence,\n",
        "        'id':self.ids[idx],\n",
        "        'input_ids': encoding['input_ids'].flatten(),\n",
        "        'attention_mask': encoding['attention_mask'].flatten(),\n",
        "    }"
      ],
      "execution_count": null,
      "outputs": []
    },
    {
      "cell_type": "code",
      "metadata": {
        "id": "0QbZMCJRjUAh"
      },
      "source": [
        "ds_test = AmazonDataset_test(\n",
        "        sentences =test_df['TITLE'].values,\n",
        "        ids = test_df['PRODUCT_ID'].values,\n",
        "        tokenizer=tokenizer,\n",
        "        max_length=max_input_length,\n",
        "    )\n",
        "test_loader = DataLoader(\n",
        "        ds_test,\n",
        "        batch_size=batch_size\n",
        "    )"
      ],
      "execution_count": null,
      "outputs": []
    },
    {
      "cell_type": "code",
      "metadata": {
        "id": "mcVYdi7sN1mj"
      },
      "source": [
        "def get_predictions(model, data_loader):\n",
        "  model = model.eval()\n",
        "  ids = []\n",
        "  sentences = []\n",
        "  predictions = []\n",
        "  prediction_probs = []\n",
        "  #real_values = []\n",
        "\n",
        "  with torch.no_grad():\n",
        "    for i,d in enumerate(data_loader):\n",
        "      if i%100 == 0:\n",
        "        print(f\"Processing batch {i+1}/{len(data_loader)}\")\n",
        "\n",
        "      sents = d[\"sentence\"]\n",
        "      input_ids = d[\"input_ids\"].to(device)\n",
        "      attention_mask = d[\"attention_mask\"].to(device)\n",
        "      id = d['id'].detach().cpu().numpy()\n",
        "    #   labels = d[\"labels\"].to(device)\n",
        "\n",
        "      outputs = model(\n",
        "        input_ids=input_ids,\n",
        "        attention_mask=attention_mask\n",
        "      )\n",
        "      _, preds = torch.max(outputs, dim=1)\n",
        "\n",
        "      probs = torch.nn.functional.softmax(outputs, dim=1)\n",
        "\n",
        "      sentences.extend(sents)\n",
        "      predictions.extend(preds)\n",
        "      prediction_probs.extend(probs)\n",
        "      ids.extend(id)\n",
        "    #   real_values.extend(labels)\n",
        "\n",
        "  predictions = torch.stack(predictions).cpu()\n",
        "  prediction_probs = torch.stack(prediction_probs).cpu()\n",
        "#   real_values = torch.stack(real_values).cpu()\n",
        "  return ids,sentences, predictions, prediction_probs,# real_values"
      ],
      "execution_count": null,
      "outputs": []
    },
    {
      "cell_type": "code",
      "metadata": {
        "colab": {
          "base_uri": "https://localhost:8080/"
        },
        "id": "EK_ppNJug__f",
        "outputId": "f2b910a9-8038-4030-86d6-3577c86e2935"
      },
      "source": [
        "ids,sents,predictions,prediction_probs = get_predictions(model,test_loader)"
      ],
      "execution_count": null,
      "outputs": [
        {
          "output_type": "stream",
          "text": [
            "/usr/local/lib/python3.7/dist-packages/transformers/tokenization_utils_base.py:2190: FutureWarning: The `pad_to_max_length` argument is deprecated and will be removed in a future version, use `padding=True` or `padding='longest'` to pad to the longest sequence in the batch, or use `padding='max_length'` to pad to a max length. In this case, you can give a specific length with `max_length` (e.g. `max_length=45`) or leave max_length to None to pad to the maximal input size of the model (e.g. 512 for Bert).\n",
            "  FutureWarning,\n"
          ],
          "name": "stderr"
        },
        {
          "output_type": "stream",
          "text": [
            "Processing batch 1/1731\n",
            "Processing batch 101/1731\n",
            "Processing batch 201/1731\n",
            "Processing batch 301/1731\n",
            "Processing batch 401/1731\n",
            "Processing batch 501/1731\n",
            "Processing batch 601/1731\n",
            "Processing batch 701/1731\n",
            "Processing batch 801/1731\n",
            "Processing batch 901/1731\n",
            "Processing batch 1001/1731\n",
            "Processing batch 1101/1731\n",
            "Processing batch 1201/1731\n",
            "Processing batch 1301/1731\n",
            "Processing batch 1401/1731\n",
            "Processing batch 1501/1731\n",
            "Processing batch 1601/1731\n",
            "Processing batch 1701/1731\n"
          ],
          "name": "stdout"
        }
      ]
    },
    {
      "cell_type": "code",
      "metadata": {
        "colab": {
          "base_uri": "https://localhost:8080/",
          "height": 417
        },
        "id": "FL_O00lnj-u-",
        "outputId": "5d38be97-13e2-493f-ac31-1fc8898ad1fe"
      },
      "source": [
        "df_sub = pd.DataFrame({\n",
        "    'PRODUCT_ID':ids,\n",
        "    'BROWSE_NODE_ID':le.inverse_transform(predictions)\n",
        "})\n",
        "df_sub"
      ],
      "execution_count": null,
      "outputs": [
        {
          "output_type": "execute_result",
          "data": {
            "text/html": [
              "<div>\n",
              "<style scoped>\n",
              "    .dataframe tbody tr th:only-of-type {\n",
              "        vertical-align: middle;\n",
              "    }\n",
              "\n",
              "    .dataframe tbody tr th {\n",
              "        vertical-align: top;\n",
              "    }\n",
              "\n",
              "    .dataframe thead th {\n",
              "        text-align: right;\n",
              "    }\n",
              "</style>\n",
              "<table border=\"1\" class=\"dataframe\">\n",
              "  <thead>\n",
              "    <tr style=\"text-align: right;\">\n",
              "      <th></th>\n",
              "      <th>PRODUCT_ID</th>\n",
              "      <th>BROWSE_NODE_ID</th>\n",
              "    </tr>\n",
              "  </thead>\n",
              "  <tbody>\n",
              "    <tr>\n",
              "      <th>0</th>\n",
              "      <td>1</td>\n",
              "      <td>1140</td>\n",
              "    </tr>\n",
              "    <tr>\n",
              "      <th>1</th>\n",
              "      <td>2</td>\n",
              "      <td>3329</td>\n",
              "    </tr>\n",
              "    <tr>\n",
              "      <th>2</th>\n",
              "      <td>3</td>\n",
              "      <td>4894</td>\n",
              "    </tr>\n",
              "    <tr>\n",
              "      <th>3</th>\n",
              "      <td>4</td>\n",
              "      <td>125</td>\n",
              "    </tr>\n",
              "    <tr>\n",
              "      <th>4</th>\n",
              "      <td>5</td>\n",
              "      <td>8915</td>\n",
              "    </tr>\n",
              "    <tr>\n",
              "      <th>...</th>\n",
              "      <td>...</td>\n",
              "      <td>...</td>\n",
              "    </tr>\n",
              "    <tr>\n",
              "      <th>110770</th>\n",
              "      <td>110771</td>\n",
              "      <td>4368</td>\n",
              "    </tr>\n",
              "    <tr>\n",
              "      <th>110771</th>\n",
              "      <td>110772</td>\n",
              "      <td>13568</td>\n",
              "    </tr>\n",
              "    <tr>\n",
              "      <th>110772</th>\n",
              "      <td>110773</td>\n",
              "      <td>13568</td>\n",
              "    </tr>\n",
              "    <tr>\n",
              "      <th>110773</th>\n",
              "      <td>110774</td>\n",
              "      <td>800</td>\n",
              "    </tr>\n",
              "    <tr>\n",
              "      <th>110774</th>\n",
              "      <td>110775</td>\n",
              "      <td>3442</td>\n",
              "    </tr>\n",
              "  </tbody>\n",
              "</table>\n",
              "<p>110775 rows × 2 columns</p>\n",
              "</div>"
            ],
            "text/plain": [
              "        PRODUCT_ID  BROWSE_NODE_ID\n",
              "0                1            1140\n",
              "1                2            3329\n",
              "2                3            4894\n",
              "3                4             125\n",
              "4                5            8915\n",
              "...            ...             ...\n",
              "110770      110771            4368\n",
              "110771      110772           13568\n",
              "110772      110773           13568\n",
              "110773      110774             800\n",
              "110774      110775            3442\n",
              "\n",
              "[110775 rows x 2 columns]"
            ]
          },
          "metadata": {
            "tags": []
          },
          "execution_count": 51
        }
      ]
    },
    {
      "cell_type": "code",
      "metadata": {
        "id": "kBQin7KEkQrH"
      },
      "source": [
        "df_sub.to_csv('/content/drive/MyDrive/AmazonMLChallenge/submission_bert3.csv',index=False)"
      ],
      "execution_count": null,
      "outputs": []
    },
    {
      "cell_type": "code",
      "metadata": {
        "id": "TSXmC5Dkq1ru"
      },
      "source": [
        "torch.save(model.state_dict(),'/content/drive/MyDrive/AmazonMLChallenge/model_bert_3.pth')"
      ],
      "execution_count": null,
      "outputs": []
    },
    {
      "cell_type": "code",
      "metadata": {
        "id": "P86Eznigrtwm"
      },
      "source": [
        ""
      ],
      "execution_count": null,
      "outputs": []
    }
  ]
}